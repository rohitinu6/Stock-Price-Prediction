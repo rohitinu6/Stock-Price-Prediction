{
 "cells": [
  {
   "cell_type": "markdown",
   "id": "d6a21042",
   "metadata": {},
   "source": [
    "DEPENDENCIES"
   ]
  },
  {
   "cell_type": "code",
   "execution_count": 17,
   "id": "15cc2438",
   "metadata": {},
   "outputs": [],
   "source": [
    "import pandas as pd\n",
    "import numpy as np\n",
    "from sklearn.model_selection import train_test_split, GridSearchCV\n",
    "from sklearn.linear_model import LinearRegression\n",
    "from sklearn.svm import SVR\n",
    "from sklearn.ensemble import RandomForestRegressor, AdaBoostRegressor, GradientBoostingRegressor\n",
    "from sklearn.tree import DecisionTreeRegressor\n",
    "from sklearn.neighbors import KNeighborsRegressor\n",
    "from sklearn.metrics import mean_squared_error, mean_absolute_error, mean_absolute_percentage_error, accuracy_score, precision_score, confusion_matrix, recall_score, f1_score\n",
    "from sklearn.preprocessing import MinMaxScaler\n",
    "import xgboost as xgb\n",
    "import matplotlib.pyplot as plt"
   ]
  },
  {
   "cell_type": "code",
   "execution_count": 18,
   "id": "1a47080a",
   "metadata": {},
   "outputs": [],
   "source": [
    "# Load the dataset\n",
    "df = pd.read_csv('SBIN.csv')"
   ]
  },
  {
   "cell_type": "code",
   "execution_count": 19,
   "id": "8b945263",
   "metadata": {},
   "outputs": [],
   "source": [
    "# Data preprocessing\n",
    "df.drop(['Date', 'Adj Close'], axis=1, inplace=True)\n",
    "from sklearn.impute import SimpleImputer\n",
    "imputer = SimpleImputer(strategy='mean')\n",
    "df = pd.DataFrame(imputer.fit_transform(df), columns=df.columns)"
   ]
  },
  {
   "cell_type": "code",
   "execution_count": 20,
   "id": "af430abe",
   "metadata": {},
   "outputs": [],
   "source": [
    "# Select features and target variable\n",
    "X = df[['Open', 'High', 'Low', 'Volume']]\n",
    "y = df['Close']"
   ]
  },
  {
   "cell_type": "markdown",
   "id": "763efa5e",
   "metadata": {},
   "source": [
    "TRAINING AND TESTING"
   ]
  },
  {
   "cell_type": "code",
   "execution_count": 21,
   "id": "2dddc0b9",
   "metadata": {},
   "outputs": [],
   "source": [
    "# Split the data into training and testing sets\n",
    "X_train, X_test, y_train, y_test = train_test_split(X, y, test_size=0.2, random_state=42)"
   ]
  },
  {
   "cell_type": "code",
   "execution_count": 22,
   "id": "1c523190",
   "metadata": {},
   "outputs": [],
   "source": [
    "# Scale the features using Min-Max scaling\n",
    "scaler = MinMaxScaler()\n",
    "X_train_scaled = scaler.fit_transform(X_train)\n",
    "X_test_scaled = scaler.transform(X_test)"
   ]
  },
  {
   "cell_type": "code",
   "execution_count": 23,
   "id": "73b110e4",
   "metadata": {},
   "outputs": [],
   "source": [
    "# Function to train and evaluate model\n",
    "def train_and_evaluate_model(model, X_train, y_train, X_test, y_test, params=None):\n",
    "    if params:\n",
    "        model = GridSearchCV(model, params, scoring='neg_mean_squared_error', cv=5, n_jobs=-1)\n",
    "    model.fit(X_train, y_train)\n",
    "    predictions = model.predict(X_test)\n",
    "    \n",
    "    # Calculate evaluation metrics\n",
    "    rmse = np.sqrt(mean_squared_error(y_test, predictions))\n",
    "    mae = mean_absolute_error(y_test, predictions)\n",
    "    mape = mean_absolute_percentage_error(y_test, predictions)\n",
    "    accuracy = accuracy_score(y_test > predictions, y_test > predictions.round())\n",
    "    precision = precision_score(y_test > predictions, y_test > predictions.round())\n",
    "    confusion = confusion_matrix(y_test > predictions, y_test > predictions.round())\n",
    "    recall = recall_score(y_test > predictions, y_test > predictions.round())\n",
    "    f1 = f1_score(y_test > predictions, y_test > predictions.round())\n",
    "\n",
    "    # Print the evaluation metrics\n",
    "    print(f\"RMSE: {rmse}, MAE: {mae}, MAPE: {mape}, Accuracy: {accuracy}, Precision: {precision}, Confusion Matrix:\\n{confusion}, Recall: {recall}, F1 Score: {f1}\")\n",
    "\n",
    "    return model"
   ]
  },
  {
   "cell_type": "code",
   "execution_count": 24,
   "id": "68f21263",
   "metadata": {},
   "outputs": [],
   "source": [
    "# Define models and their hyperparameters\n",
    "models_params = {\n",
    "    'Linear Regression': (LinearRegression(), None),\n",
    "    'SVR': (SVR(), {'C': [0.1, 1], 'epsilon': [0.01, 0.1, 0.5], 'kernel': ['sigmoid']}),\n",
    "    'Random Forest': (RandomForestRegressor(), None),\n",
    "    'Gradient Boosting': (GradientBoostingRegressor(), None),\n",
    "    'XGBoost': (xgb.XGBRegressor(), None),\n",
    "    'AdaBoost': (AdaBoostRegressor(), None),\n",
    "    'Decision Tree': (DecisionTreeRegressor(), None),\n",
    "    'KNeighbors': (KNeighborsRegressor(), {'n_neighbors': [3, 5, 7, 9, 11, 15, 20, 23, 25, 30, 60, 70, 150]})\n",
    "}"
   ]
  },
  {
   "cell_type": "code",
   "execution_count": 25,
   "id": "af1992c1",
   "metadata": {},
   "outputs": [
    {
     "name": "stdout",
     "output_type": "stream",
     "text": [
      "\n",
      "Linear Regression Model:\n",
      "RMSE: 1.6881364651923592, MAE: 0.9433353486266863, MAPE: 0.006085435968276418, Accuracy: 0.8296819787985866, Precision: 0.8623595505617978, Confusion Matrix:\n",
      "[[560  98]\n",
      " [143 614]], Recall: 0.8110964332892999, F1 Score: 0.8359428182437032\n",
      "\n",
      "SVR Model:\n",
      "RMSE: 134.5606234817444, MAE: 76.05976804010935, MAPE: 0.39705639844596075, Accuracy: 0.9978798586572438, Precision: 0.9970544918998527, Confusion Matrix:\n",
      "[[735   2]\n",
      " [  1 677]], Recall: 0.9985250737463127, F1 Score: 0.997789240972734\n",
      "\n",
      "Random Forest Model:\n",
      "RMSE: 2.191031983578823, MAE: 1.254384854932792, MAPE: 0.007957611370512454, Accuracy: 0.8551236749116607, Precision: 0.8556851311953353, Confusion Matrix:\n",
      "[[623  99]\n",
      " [106 587]], Recall: 0.847041847041847, F1 Score: 0.851341551849166\n",
      "\n",
      "Gradient Boosting Model:\n",
      "RMSE: 2.697993647984777, MAE: 1.6922021460047614, MAPE: 0.011881429758725463, Accuracy: 0.9017667844522969, Precision: 0.8982300884955752, Confusion Matrix:\n",
      "[[667  69]\n",
      " [ 70 609]], Recall: 0.8969072164948454, F1 Score: 0.8975681650700075\n",
      "\n",
      "XGBoost Model:\n",
      "RMSE: 2.733930065274145, MAE: 1.502457380471909, MAPE: 0.010026410639661481, Accuracy: 0.8840989399293286, Precision: 0.8948106591865358, Confusion Matrix:\n",
      "[[613  75]\n",
      " [ 89 638]], Recall: 0.8775790921595599, F1 Score: 0.8861111111111112\n",
      "\n",
      "AdaBoost Model:\n",
      "RMSE: 9.915909571695305, MAE: 8.180488940261938, MAPE: 0.1986601163272193, Accuracy: 0.992226148409894, Precision: 0.986, Confusion Matrix:\n",
      "[[911   7]\n",
      " [  4 493]], Recall: 0.9919517102615694, F1 Score: 0.9889669007021062\n",
      "\n",
      "Decision Tree Model:\n",
      "RMSE: 3.0678929179050054, MAE: 1.6473595220251132, MAPE: 0.010260672105066157, Accuracy: 0.8572438162544169, Precision: 0.8650137741046832, Confusion Matrix:\n",
      "[[585  98]\n",
      " [104 628]], Recall: 0.8579234972677595, F1 Score: 0.8614540466392319\n",
      "\n",
      "KNeighbors Model:\n",
      "RMSE: 3.261285106039988, MAE: 1.8071640369846882, MAPE: 0.014187783844224503, Accuracy: 0.8968197879858657, Precision: 0.9097744360902256, Confusion Matrix:\n",
      "[[664  60]\n",
      " [ 86 605]], Recall: 0.8755426917510853, F1 Score: 0.8923303834808259\n"
     ]
    }
   ],
   "source": [
    "# Train and evaluate all models\n",
    "for name, (model, params) in models_params.items():\n",
    "    print(f\"\\n{name} Model:\")\n",
    "    train_and_evaluate_model(model, X_train_scaled, y_train, X_test_scaled, y_test, params)\n"
   ]
  },
  {
   "cell_type": "code",
   "execution_count": 26,
   "id": "fb66a3c1",
   "metadata": {},
   "outputs": [
    {
     "data": {
      "image/png": "[encoded data removed]",
      "text/plain": [
       "<Figure size 720x432 with 1 Axes>"
      ]
     },
     "metadata": {
      "needs_background": "light"
     },
     "output_type": "display_data"
    }
   ],
   "source": [
    "from sklearn.model_selection import cross_val_score\n",
    "\n",
    "# KNN Hyperparameter Tuning\n",
    "def knn_hyperparameter_tuning(X_train, y_train):\n",
    "    k_values = range(1, 31)  # Example range for k\n",
    "    mse_values = []\n",
    "    \n",
    "    for k in k_values:\n",
    "        knn_model = KNeighborsRegressor(n_neighbors=k)\n",
    "        mse = -cross_val_score(knn_model, X_train, y_train, cv=5, scoring='neg_mean_squared_error').mean()\n",
    "        mse_values.append(mse)\n",
    "    \n",
    "    return k_values, mse_values\n",
    "\n",
    "# Perform KNN Hyperparameter Tuning\n",
    "k_values, mse_values = knn_hyperparameter_tuning(X_train_scaled, y_train)\n",
    "\n",
    "# Plotting the results\n",
    "plt.figure(figsize=(10, 6))\n",
    "plt.plot(k_values, mse_values, marker='o', linestyle='-')\n",
    "plt.title('KNN Hyperparameter Tuning: MSE vs. Number of Neighbors')\n",
    "plt.xlabel('Number of Neighbors (k)')\n",
    "plt.ylabel('Mean Squared Error (MSE)')\n",
    "plt.xticks(k_values)  # Show all k values on x-axis\n",
    "plt.grid()\n",
    "plt.show()"
   ]
  },
  {
   "cell_type": "code",
   "execution_count": null,
   "id": "b410ecfc",
   "metadata": {},
   "outputs": [],
   "source": []
  }
 ],
 "metadata": {
  "kernelspec": {
   "display_name": "Python 3 (ipykernel)",
   "language": "python",
   "name": "python3"
  },
  "language_info": {
   "codemirror_mode": {
    "name": "ipython",
    "version": 3
   },
   "file_extension": ".py",
   "mimetype": "text/x-python",
   "name": "python",
   "nbconvert_exporter": "python",
   "pygments_lexer": "ipython3",
   "version": "3.9.12"
  }
 },
 "nbformat": 4,
 "nbformat_minor": 5
}
