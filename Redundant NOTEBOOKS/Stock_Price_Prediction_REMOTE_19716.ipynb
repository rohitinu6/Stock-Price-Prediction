{
  "cells": [
    {
      "cell_type": "code",
      "execution_count": 1,
      "metadata": {
        "id": "qCDSjVhXLr_Z"
      },
      "outputs": [],
      "source": [
        "import pandas as pd\n",
        "import numpy as np\n",
        "from sklearn.model_selection import train_test_split\n",
        "from sklearn.linear_model import LinearRegression\n",
        "from sklearn.metrics import mean_squared_error, mean_absolute_error, mean_absolute_percentage_error, accuracy_score, precision_score, confusion_matrix, recall_score, f1_score"
      ]
    },
    {
      "cell_type": "code",
      "execution_count": 2,
      "metadata": {
        "colab": {
          "base_uri": "https://localhost:8080/"
        },
        "id": "SOQbXSiB-g5G",
        "outputId": "6ae02a27-02b0-4bd9-a1ae-a7029056f32e"
      },
      "outputs": [],
      "source": [
        "# from google.colab import drive\n",
        "# drive.mount('/content/drive')\n",
        "# df = pd.read_csv('drive/My Drive/Colab Notebooks/Stock Price Prediction RNN/SBIN.csv')\n",
        "df = pd.read_csv('SBIN.csv')"
      ]
    },
    {
      "cell_type": "markdown",
      "metadata": {},
      "source": [
        "# Data Analysis and Visualization"
      ]
    },
    {
      "cell_type": "code",
      "execution_count": null,
      "metadata": {},
      "outputs": [],
      "source": [
        "# Print first 5 rows of dataset\n",
        "df.head()"
      ]
    },
    {
      "cell_type": "code",
      "execution_count": null,
      "metadata": {},
      "outputs": [],
      "source": [
        "# basic dataset features information\n",
        "df.info()"
      ]
    },
    {
      "cell_type": "code",
      "execution_count": null,
      "metadata": {},
      "outputs": [],
      "source": [
        "# Summary of numerical columns\n",
        "df.describe()"
      ]
    },
    {
      "cell_type": "code",
      "execution_count": null,
      "metadata": {},
      "outputs": [],
      "source": [
        "# Checking for null values\n",
        "df.isnull().sum()"
      ]
    },
    {
      "cell_type": "code",
      "execution_count": null,
      "metadata": {},
      "outputs": [],
      "source": []
    },
    {
      "cell_type": "code",
      "execution_count": 4,
      "metadata": {},
      "outputs": [],
      "source": [
        "# Drop the 'Date' and 'Adj Close' columns\n",
        "df.drop(['Date', 'Adj Close'], axis=1, inplace=True)"
      ]
    },
    {
      "cell_type": "code",
      "execution_count": null,
      "metadata": {},
      "outputs": [],
      "source": [
        "df.head()"
      ]
    },
    {
      "cell_type": "code",
      "execution_count": 5,
      "metadata": {
        "id": "dydEPoNeM6eN"
      },
      "outputs": [],
      "source": [
        "# Handle missing values\n",
        "from sklearn.impute import SimpleImputer\n",
        "imputer = SimpleImputer(strategy='mean')\n",
        "df = pd.DataFrame(imputer.fit_transform(df), columns=df.columns)"
      ]
    },
    {
      "cell_type": "code",
      "execution_count": null,
      "metadata": {},
      "outputs": [],
      "source": [
        "# Checking for null values\n",
        "df.isnull().sum()"
      ]
    },
    {
      "cell_type": "code",
      "execution_count": null,
      "metadata": {},
      "outputs": [],
      "source": []
    },
    {
      "cell_type": "markdown",
      "metadata": {},
      "source": [
        "# Adding Indicators"
      ]
    },
    {
      "cell_type": "markdown",
      "metadata": {},
      "source": [
        "### SMA"
      ]
    },
    {
      "cell_type": "markdown",
      "metadata": {},
      "source": [
        "Its the avg of stock price over a specific time period\n",
        "\n",
        "SMA = (sum of closing price os past n days) / n\n",
        "\n",
        "It helps identify trends by filtering out shortterm fluctuations\n",
        "\n",
        "Price above SMA indicate Uptrend and price below SMA indicate lowertrend"
      ]
    },
    {
      "cell_type": "code",
      "execution_count": 6,
      "metadata": {},
      "outputs": [],
      "source": [
        "df[\"SMA_10\"] = df[\"Close\"].rolling(window=10).mean()\n",
        "df[\"SMA_50\"] = df[\"Close\"].rolling(window=50).mean()"
      ]
    },
    {
      "cell_type": "code",
      "execution_count": 7,
      "metadata": {},
      "outputs": [],
      "source": [
        "df.dropna(subset=['SMA_10', 'SMA_50'], inplace=True)"
      ]
    },
    {
      "cell_type": "code",
      "execution_count": 8,
      "metadata": {},
      "outputs": [
        {
          "data": {
            "text/html": [
              "<div>\n",
              "<style scoped>\n",
              "    .dataframe tbody tr th:only-of-type {\n",
              "        vertical-align: middle;\n",
              "    }\n",
              "\n",
              "    .dataframe tbody tr th {\n",
              "        vertical-align: top;\n",
              "    }\n",
              "\n",
              "    .dataframe thead th {\n",
              "        text-align: right;\n",
              "    }\n",
              "</style>\n",
              "<table border=\"1\" class=\"dataframe\">\n",
              "  <thead>\n",
              "    <tr style=\"text-align: right;\">\n",
              "      <th></th>\n",
              "      <th>Open</th>\n",
              "      <th>High</th>\n",
              "      <th>Low</th>\n",
              "      <th>Close</th>\n",
              "      <th>Volume</th>\n",
              "      <th>SMA_10</th>\n",
              "      <th>SMA_50</th>\n",
              "    </tr>\n",
              "  </thead>\n",
              "  <tbody>\n",
              "    <tr>\n",
              "      <th>49</th>\n",
              "      <td>22.649218</td>\n",
              "      <td>22.734135</td>\n",
              "      <td>22.276527</td>\n",
              "      <td>22.635065</td>\n",
              "      <td>39637704.0</td>\n",
              "      <td>23.102579</td>\n",
              "      <td>20.537146</td>\n",
              "    </tr>\n",
              "    <tr>\n",
              "      <th>50</th>\n",
              "      <td>22.172739</td>\n",
              "      <td>22.361443</td>\n",
              "      <td>21.837790</td>\n",
              "      <td>22.116129</td>\n",
              "      <td>39109363.0</td>\n",
              "      <td>22.929443</td>\n",
              "      <td>20.603004</td>\n",
              "    </tr>\n",
              "    <tr>\n",
              "      <th>51</th>\n",
              "      <td>22.092541</td>\n",
              "      <td>22.186892</td>\n",
              "      <td>21.889683</td>\n",
              "      <td>22.083105</td>\n",
              "      <td>27429706.0</td>\n",
              "      <td>22.757250</td>\n",
              "      <td>20.680184</td>\n",
              "    </tr>\n",
              "    <tr>\n",
              "      <th>52</th>\n",
              "      <td>22.073669</td>\n",
              "      <td>22.686958</td>\n",
              "      <td>21.960447</td>\n",
              "      <td>22.611477</td>\n",
              "      <td>27421227.0</td>\n",
              "      <td>22.635065</td>\n",
              "      <td>20.777649</td>\n",
              "    </tr>\n",
              "    <tr>\n",
              "      <th>53</th>\n",
              "      <td>22.691675</td>\n",
              "      <td>22.889814</td>\n",
              "      <td>22.465231</td>\n",
              "      <td>22.587889</td>\n",
              "      <td>36343129.0</td>\n",
              "      <td>22.626573</td>\n",
              "      <td>20.875870</td>\n",
              "    </tr>\n",
              "  </tbody>\n",
              "</table>\n",
              "</div>"
            ],
            "text/plain": [
              "         Open       High        Low      Close      Volume     SMA_10  \\\n",
              "49  22.649218  22.734135  22.276527  22.635065  39637704.0  23.102579   \n",
              "50  22.172739  22.361443  21.837790  22.116129  39109363.0  22.929443   \n",
              "51  22.092541  22.186892  21.889683  22.083105  27429706.0  22.757250   \n",
              "52  22.073669  22.686958  21.960447  22.611477  27421227.0  22.635065   \n",
              "53  22.691675  22.889814  22.465231  22.587889  36343129.0  22.626573   \n",
              "\n",
              "       SMA_50  \n",
              "49  20.537146  \n",
              "50  20.603004  \n",
              "51  20.680184  \n",
              "52  20.777649  \n",
              "53  20.875870  "
            ]
          },
          "execution_count": 8,
          "metadata": {},
          "output_type": "execute_result"
        }
      ],
      "source": [
        "df.head()"
      ]
    },
    {
      "cell_type": "markdown",
      "metadata": {},
      "source": [
        "### RSI"
      ]
    },
    {
      "cell_type": "markdown",
      "metadata": {},
      "source": [
        "It is a momentum indicator used to measure the speed and change of price movements. It ranges from 0 to 100 and helps identify whether a stock is overbought or oversold.  \n",
        "\n",
        "RSI > 70: Overbought  \n",
        "RSI < 30: Oversold"
      ]
    },
    {
      "cell_type": "code",
      "execution_count": 9,
      "metadata": {},
      "outputs": [],
      "source": [
        "delta = df['Close'].diff(1)\n",
        "\n",
        "gain = delta.where(delta > 0, 0)\n",
        "loss = -delta.where(delta < 0, 0)\n",
        "\n",
        "avg_gain = gain.rolling(window=14).mean()\n",
        "avg_loss = loss.rolling(window=14).mean()\n",
        "\n",
        "rs = avg_gain / avg_loss  # Relative Strength\n",
        "df['RSI'] = 100 - (100 / (1 + rs))\n",
        "\n",
        "df.dropna(subset=['RSI'], inplace=True)"
      ]
    },
    {
      "cell_type": "markdown",
      "metadata": {},
      "source": [
        "##### Representing RSI Graphically"
      ]
    },
    {
      "cell_type": "code",
      "execution_count": 11,
      "metadata": {},
      "outputs": [
        {
          "data": {
            "image/png": "[encoded data removed]",
            "text/plain": [
              "<Figure size 1000x800 with 2 Axes>"
            ]
          },
          "metadata": {},
          "output_type": "display_data"
        }
      ],
      "source": [
        "# Create subplots\n",
        "import matplotlib.pyplot as plt\n",
        "fig, (ax1, ax2) = plt.subplots(2, 1, figsize=(10, 8), gridspec_kw={'height_ratios': [3, 1]})\n",
        "\n",
        "# price graph\n",
        "ax1.plot(df['Close'], label='Close Price', color='blue')\n",
        "ax1.set_title('Stock Price')\n",
        "ax1.set_ylabel('Price')\n",
        "ax1.legend()\n",
        "\n",
        "# rsi graph\n",
        "ax2.plot(df['RSI'], label='RSI', color='orange')\n",
        "ax2.axhline(70, color='red', linestyle='--')  # Overbought line\n",
        "ax2.axhline(30, color='green', linestyle='--')  # Oversold line\n",
        "ax2.set_title('Relative Strength Index (RSI)')\n",
        "ax2.set_ylabel('RSI')\n",
        "ax2.legend()\n",
        "\n",
        "plt.tight_layout()\n",
        "plt.show()\n"
      ]
    },
    {
      "cell_type": "code",
      "execution_count": 10,
      "metadata": {},
      "outputs": [
        {
          "data": {
            "text/html": [
              "<div>\n",
              "<style scoped>\n",
              "    .dataframe tbody tr th:only-of-type {\n",
              "        vertical-align: middle;\n",
              "    }\n",
              "\n",
              "    .dataframe tbody tr th {\n",
              "        vertical-align: top;\n",
              "    }\n",
              "\n",
              "    .dataframe thead th {\n",
              "        text-align: right;\n",
              "    }\n",
              "</style>\n",
              "<table border=\"1\" class=\"dataframe\">\n",
              "  <thead>\n",
              "    <tr style=\"text-align: right;\">\n",
              "      <th></th>\n",
              "      <th>Open</th>\n",
              "      <th>High</th>\n",
              "      <th>Low</th>\n",
              "      <th>Close</th>\n",
              "      <th>Volume</th>\n",
              "      <th>SMA_10</th>\n",
              "      <th>SMA_50</th>\n",
              "      <th>RSI</th>\n",
              "    </tr>\n",
              "  </thead>\n",
              "  <tbody>\n",
              "    <tr>\n",
              "      <th>62</th>\n",
              "      <td>21.700979</td>\n",
              "      <td>22.031212</td>\n",
              "      <td>21.700979</td>\n",
              "      <td>21.814201</td>\n",
              "      <td>14674821.0</td>\n",
              "      <td>21.633046</td>\n",
              "      <td>21.567471</td>\n",
              "      <td>40.418486</td>\n",
              "    </tr>\n",
              "    <tr>\n",
              "      <th>63</th>\n",
              "      <td>21.814201</td>\n",
              "      <td>23.116261</td>\n",
              "      <td>21.856661</td>\n",
              "      <td>22.177458</td>\n",
              "      <td>15454878.0</td>\n",
              "      <td>21.592002</td>\n",
              "      <td>21.662955</td>\n",
              "      <td>45.076147</td>\n",
              "    </tr>\n",
              "    <tr>\n",
              "      <th>64</th>\n",
              "      <td>22.314266</td>\n",
              "      <td>22.408621</td>\n",
              "      <td>22.031212</td>\n",
              "      <td>22.210480</td>\n",
              "      <td>21249133.0</td>\n",
              "      <td>21.594833</td>\n",
              "      <td>21.754948</td>\n",
              "      <td>51.133774</td>\n",
              "    </tr>\n",
              "    <tr>\n",
              "      <th>65</th>\n",
              "      <td>21.700979</td>\n",
              "      <td>22.927555</td>\n",
              "      <td>21.700979</td>\n",
              "      <td>22.809616</td>\n",
              "      <td>40137428.0</td>\n",
              "      <td>21.715604</td>\n",
              "      <td>21.846659</td>\n",
              "      <td>57.684634</td>\n",
              "    </tr>\n",
              "    <tr>\n",
              "      <th>66</th>\n",
              "      <td>23.120977</td>\n",
              "      <td>23.871077</td>\n",
              "      <td>22.517124</td>\n",
              "      <td>23.531408</td>\n",
              "      <td>53712115.0</td>\n",
              "      <td>21.967523</td>\n",
              "      <td>21.948936</td>\n",
              "      <td>59.348024</td>\n",
              "    </tr>\n",
              "  </tbody>\n",
              "</table>\n",
              "</div>"
            ],
            "text/plain": [
              "         Open       High        Low      Close      Volume     SMA_10  \\\n",
              "62  21.700979  22.031212  21.700979  21.814201  14674821.0  21.633046   \n",
              "63  21.814201  23.116261  21.856661  22.177458  15454878.0  21.592002   \n",
              "64  22.314266  22.408621  22.031212  22.210480  21249133.0  21.594833   \n",
              "65  21.700979  22.927555  21.700979  22.809616  40137428.0  21.715604   \n",
              "66  23.120977  23.871077  22.517124  23.531408  53712115.0  21.967523   \n",
              "\n",
              "       SMA_50        RSI  \n",
              "62  21.567471  40.418486  \n",
              "63  21.662955  45.076147  \n",
              "64  21.754948  51.133774  \n",
              "65  21.846659  57.684634  \n",
              "66  21.948936  59.348024  "
            ]
          },
          "execution_count": 10,
          "metadata": {},
          "output_type": "execute_result"
        }
      ],
      "source": [
        "df.head()"
      ]
    },
    {
      "cell_type": "markdown",
      "metadata": {},
      "source": [
        "Correlations"
      ]
    },
    {
      "cell_type": "code",
      "execution_count": null,
      "metadata": {},
      "outputs": [],
      "source": [
        "corr = df.corr()\n",
        "corr"
      ]
    },
    {
      "cell_type": "code",
      "execution_count": null,
      "metadata": {},
      "outputs": [],
      "source": []
    },
    {
      "cell_type": "code",
      "execution_count": null,
      "metadata": {},
      "outputs": [],
      "source": [
        "import matplotlib.pyplot as plt\n",
        "import seaborn as sns\n",
        "\n",
        "plt.figure(figsize=(10,8))\n",
        "sns.heatmap(corr, annot=True, linewidths=0.5)\n",
        "plt.show()"
      ]
    },
    {
      "cell_type": "code",
      "execution_count": null,
      "metadata": {},
      "outputs": [],
      "source": []
    },
    {
      "cell_type": "code",
      "execution_count": 17,
      "metadata": {
        "id": "OQ3cGqgTMBwt"
      },
      "outputs": [],
      "source": [
        "# Select features and target variable\n",
        "X = df[['Open', 'High', 'Low', 'Volume']]\n",
        "y = df['Close']"
      ]
    },
    {
      "cell_type": "code",
      "execution_count": 18,
      "metadata": {
        "id": "9Oz-bwJOMEWD"
      },
      "outputs": [],
      "source": [
        "# Split the data into training and testing sets\n",
        "X_train, X_test, y_train, y_test = train_test_split(X, y, test_size=0.2, random_state=42)"
      ]
    },
    {
      "cell_type": "code",
      "execution_count": 19,
      "metadata": {
        "id": "ugapDyXODtn3"
      },
      "outputs": [],
      "source": [
        "# Scale the features using Min-Max scaling\n",
        "from sklearn.preprocessing import MinMaxScaler\n",
        "scaler = MinMaxScaler()\n",
        "X_train_scaled = scaler.fit_transform(X_train)\n",
        "X_test_scaled = scaler.transform(X_test)"
      ]
    },
    {
      "cell_type": "code",
      "execution_count": null,
      "metadata": {
        "colab": {
          "base_uri": "https://localhost:8080/"
        },
        "id": "997ZEgibCZIO",
        "outputId": "2a45a8e3-71b0-47f3-bd66-91bcdc028c76"
      },
      "outputs": [],
      "source": [
        "X_train.shape"
      ]
    },
    {
      "cell_type": "code",
      "execution_count": null,
      "metadata": {
        "colab": {
          "base_uri": "https://localhost:8080/"
        },
        "id": "bmtt76RuCeyG",
        "outputId": "658075af-e75d-45b1-f6cf-756e349a32d1"
      },
      "outputs": [],
      "source": [
        "X_test.shape"
      ]
    },
    {
      "cell_type": "code",
      "execution_count": null,
      "metadata": {
        "colab": {
          "base_uri": "https://localhost:8080/"
        },
        "id": "CeJkUJ92Ciqd",
        "outputId": "93dec527-ea2e-42e6-c70b-a9491c71d917"
      },
      "outputs": [],
      "source": [
        "y_train.shape"
      ]
    },
    {
      "cell_type": "code",
      "execution_count": null,
      "metadata": {
        "colab": {
          "base_uri": "https://localhost:8080/"
        },
        "id": "7HGC7VuTCjWc",
        "outputId": "64dc2569-b4b4-4c2e-d416-1cf77c41ac75"
      },
      "outputs": [],
      "source": [
        "y_test.shape"
      ]
    },
    {
      "cell_type": "markdown",
      "metadata": {
        "id": "c6Ek8jRlO2_I"
      },
      "source": [
        "## 1. LINEAR REGRESSION"
      ]
    },
    {
      "cell_type": "code",
      "execution_count": 24,
      "metadata": {
        "id": "RdZ1SpzdMHAJ"
      },
      "outputs": [],
      "source": [
        "# Create a linear regression model\n",
        "model1 = LinearRegression()"
      ]
    },
    {
      "cell_type": "code",
      "execution_count": null,
      "metadata": {
        "colab": {
          "base_uri": "https://localhost:8080/"
        },
        "id": "mPM035IzMY04",
        "outputId": "07379dba-cfe8-4814-b972-d08b12f224ac"
      },
      "outputs": [],
      "source": [
        "y_train.head()"
      ]
    },
    {
      "cell_type": "code",
      "execution_count": null,
      "metadata": {
        "colab": {
          "base_uri": "https://localhost:8080/",
          "height": 74
        },
        "id": "qBhQ9HbYMI3d",
        "outputId": "52e0655f-1d23-47b7-decc-7a7ca35c0470"
      },
      "outputs": [],
      "source": [
        "# Train the model\n",
        "model1.fit(X_train, y_train)"
      ]
    },
    {
      "cell_type": "code",
      "execution_count": 27,
      "metadata": {
        "id": "X269co2kMS4z"
      },
      "outputs": [],
      "source": [
        "# Make predictions on the test set\n",
        "pred1 = model1.predict(X_test)"
      ]
    },
    {
      "cell_type": "code",
      "execution_count": 28,
      "metadata": {
        "id": "QK8GvDYPOd0Y"
      },
      "outputs": [],
      "source": [
        "# Calculate evaluation metrics\n",
        "rmse1 = np.sqrt(mean_squared_error(y_test, pred1))\n",
        "mae1 = mean_absolute_error(y_test, pred1)\n",
        "mape1 = mean_absolute_percentage_error(y_test, pred1)\n",
        "accuracy1 = accuracy_score(y_test > pred1, y_test > pred1.round())\n",
        "precision1 = precision_score(y_test > pred1, y_test > pred1.round())\n",
        "confusion1 = confusion_matrix(y_test > pred1, y_test > pred1.round())\n",
        "recall1 = recall_score(y_test > pred1, y_test > pred1.round())\n",
        "f11 = f1_score(y_test > pred1, y_test > pred1.round())"
      ]
    },
    {
      "cell_type": "code",
      "execution_count": null,
      "metadata": {
        "colab": {
          "base_uri": "https://localhost:8080/"
        },
        "id": "dEi49xtEOtne",
        "outputId": "0000b074-3187-41de-fbac-4ae75cbda6bd"
      },
      "outputs": [],
      "source": [
        "# Print the evaluation metrics\n",
        "print(\"RMSE:\", rmse1)\n",
        "print(\"MAE:\", mae1)\n",
        "print(\"MAPE:\", mape1)\n",
        "print(\"Accuracy:\", accuracy1)\n",
        "print(\"Precision:\", precision1)\n",
        "print(\"Confusion Matrix:\\n\", confusion1)\n",
        "print(\"Recall:\", recall1)\n",
        "print(\"F1 Score:\", f11)"
      ]
    },
    {
      "cell_type": "markdown",
      "metadata": {
        "id": "GxtMzlg-gR2P"
      },
      "source": [
        "## 2. SVR"
      ]
    },
    {
      "cell_type": "code",
      "execution_count": 39,
      "metadata": {
        "id": "o7K9r7EXWRjQ"
      },
      "outputs": [],
      "source": [
        "from sklearn.svm import SVR"
      ]
    },
    {
      "cell_type": "code",
      "execution_count": 40,
      "metadata": {
        "id": "0xQewd7QWTtq"
      },
      "outputs": [],
      "source": [
        "# Create an SVR model\n",
        "model2 = SVR()"
      ]
    },
    {
      "cell_type": "code",
      "execution_count": 41,
      "metadata": {
        "id": "DuNes3s6U2IV"
      },
      "outputs": [],
      "source": [
        "# Split the data into training and testing sets\n",
        "X_train, X_test, y_train, y_test = train_test_split(X, y, test_size=0.2, random_state=42)\n",
        "# Scale the features using Min-Max scaling\n",
        "scaler = MinMaxScaler()\n",
        "X_train_scaled = scaler.fit_transform(X_train)\n",
        "X_test_scaled = scaler.transform(X_test)"
      ]
    },
    {
      "cell_type": "code",
      "execution_count": null,
      "metadata": {
        "colab": {
          "base_uri": "https://localhost:8080/",
          "height": 74
        },
        "id": "22SaCsQmfhgP",
        "outputId": "2121e992-399d-4b78-e42c-fc20b9d52189"
      },
      "outputs": [],
      "source": [
        "# Train the model\n",
        "model2.fit(X_train, y_train)"
      ]
    },
    {
      "cell_type": "code",
      "execution_count": 43,
      "metadata": {
        "id": "OQ1nL4oYfkAC"
      },
      "outputs": [],
      "source": [
        "# Make predictions on the test set\n",
        "pred2 = model2.predict(X_test)\n"
      ]
    },
    {
      "cell_type": "code",
      "execution_count": 44,
      "metadata": {
        "id": "nRYTwydsfpjb"
      },
      "outputs": [],
      "source": [
        "# Calculate evaluation metrics\n",
        "rmse2 = np.sqrt(mean_squared_error(y_test, pred2))\n",
        "mae2 = mean_absolute_error(y_test, pred2)\n",
        "mape2 = mean_absolute_percentage_error(y_test, pred2)\n",
        "accuracy2 = accuracy_score(y_test > pred2, y_test > pred2.round())\n",
        "precision2 = precision_score(y_test > pred2, y_test > pred2.round())\n",
        "confusion2 = confusion_matrix(y_test > pred2, y_test > pred2.round())\n",
        "recall2 = recall_score(y_test > pred2, y_test > pred2.round())\n",
        "f12 = f1_score(y_test > pred2, y_test > pred2.round())"
      ]
    },
    {
      "cell_type": "code",
      "execution_count": null,
      "metadata": {
        "colab": {
          "base_uri": "https://localhost:8080/"
        },
        "id": "656J5oz5fzq6",
        "outputId": "ce67d2d8-0bc8-4e6d-d6b5-6b78e7e1c59b"
      },
      "outputs": [],
      "source": [
        "# Print the evaluation metrics\n",
        "print(\"RMSE:\", rmse2)\n",
        "print(\"MAE:\", mae2)\n",
        "print(\"MAPE:\", mape2)\n",
        "print(\"Accuracy:\", accuracy2)\n",
        "print(\"Precision:\", precision2)\n",
        "print(\"Confusion Matrix:\\n\", confusion2)\n",
        "print(\"Recall:\", recall2)\n",
        "print(\"F1 Score:\", f12)"
      ]
    },
    {
      "cell_type": "markdown",
      "metadata": {
        "id": "hcIfVMWdgcKt"
      },
      "source": [
        "## 3. Random Forest"
      ]
    },
    {
      "cell_type": "code",
      "execution_count": 46,
      "metadata": {
        "id": "f7raXT_hf2ij"
      },
      "outputs": [],
      "source": [
        "from sklearn.ensemble import RandomForestRegressor\n",
        "# Create a Random Forest model\n",
        "model3 = RandomForestRegressor()"
      ]
    },
    {
      "cell_type": "code",
      "execution_count": 47,
      "metadata": {
        "id": "TadNM7MEU7fh"
      },
      "outputs": [],
      "source": [
        "# Split the data into training and testing sets\n",
        "X_train, X_test, y_train, y_test = train_test_split(X, y, test_size=0.2, random_state=42)\n",
        "# Scale the features using Min-Max scaling\n",
        "scaler = MinMaxScaler()\n",
        "X_train_scaled = scaler.fit_transform(X_train)\n",
        "X_test_scaled = scaler.transform(X_test)"
      ]
    },
    {
      "cell_type": "code",
      "execution_count": null,
      "metadata": {
        "colab": {
          "base_uri": "https://localhost:8080/",
          "height": 74
        },
        "id": "fF002Yepgk55",
        "outputId": "d148c589-4879-4e2d-8b0f-5b5ca01a2a53"
      },
      "outputs": [],
      "source": [
        "# Train the model\n",
        "model3.fit(X_train, y_train)"
      ]
    },
    {
      "cell_type": "code",
      "execution_count": 49,
      "metadata": {
        "id": "8nRU_pzEgnCt"
      },
      "outputs": [],
      "source": [
        "# Make predictions on the test set\n",
        "pred3 = model3.predict(X_test)"
      ]
    },
    {
      "cell_type": "code",
      "execution_count": 50,
      "metadata": {
        "id": "4aKEXGVUgsry"
      },
      "outputs": [],
      "source": [
        "# Calculate evaluation metrics\n",
        "rmse3 = np.sqrt(mean_squared_error(y_test, pred3))\n",
        "mae3 = mean_absolute_error(y_test, pred3)\n",
        "mape3 = mean_absolute_percentage_error(y_test, pred3)\n",
        "accuracy3 = accuracy_score(y_test > pred3, y_test > pred3.round())\n",
        "precision3 = precision_score(y_test > pred3, y_test > pred3.round())\n",
        "confusion3 = confusion_matrix(y_test > pred3, y_test > pred3.round())\n",
        "recall3 = recall_score(y_test > pred3, y_test > pred3.round())\n",
        "f13 = f1_score(y_test > pred3, y_test > pred3.round())"
      ]
    },
    {
      "cell_type": "code",
      "execution_count": null,
      "metadata": {
        "colab": {
          "base_uri": "https://localhost:8080/"
        },
        "id": "8pPzsCY1g305",
        "outputId": "72c4ea56-2610-41c6-f286-4c8289d3f0ac"
      },
      "outputs": [],
      "source": [
        "# Print the evaluation metrics\n",
        "print(\"RMSE:\", rmse3)\n",
        "print(\"MAE:\", mae3)\n",
        "print(\"MAPE:\", mape3)\n",
        "print(\"Accuracy:\", accuracy3)\n",
        "print(\"Precision:\", precision3)\n",
        "print(\"Confusion Matrix:\\n\", confusion3)\n",
        "print(\"Recall:\", recall3)\n",
        "print(\"F1 Score:\", f13)"
      ]
    },
    {
      "cell_type": "markdown",
      "metadata": {
        "id": "mZsLwLivhLGH"
      },
      "source": [
        "## 4. Gradient Boosting Models (GBM)"
      ]
    },
    {
      "cell_type": "code",
      "execution_count": 52,
      "metadata": {
        "id": "TI8idoxOg6jF"
      },
      "outputs": [],
      "source": [
        "import xgboost as xgb\n",
        "# Create an XGBoost model\n",
        "model4 = xgb.XGBRegressor()"
      ]
    },
    {
      "cell_type": "code",
      "execution_count": 53,
      "metadata": {
        "id": "7r9xJDtOVBEA"
      },
      "outputs": [],
      "source": [
        "# Split the data into training and testing sets\n",
        "X_train, X_test, y_train, y_test = train_test_split(X, y, test_size=0.2, random_state=42)\n",
        "# Scale the features using Min-Max scaling\n",
        "scaler = MinMaxScaler()\n",
        "X_train_scaled = scaler.fit_transform(X_train)\n",
        "X_test_scaled = scaler.transform(X_test)"
      ]
    },
    {
      "cell_type": "code",
      "execution_count": null,
      "metadata": {
        "colab": {
          "base_uri": "https://localhost:8080/",
          "height": 248
        },
        "id": "2gpbDxshhexj",
        "outputId": "b2b1a681-7ede-4d66-be5d-1a8606d0f470"
      },
      "outputs": [],
      "source": [
        "# Train the model\n",
        "model4.fit(X_train, y_train)"
      ]
    },
    {
      "cell_type": "code",
      "execution_count": 55,
      "metadata": {
        "id": "Jj9DXdUPhh9V"
      },
      "outputs": [],
      "source": [
        "# Make predictions on the test set\n",
        "pred4 = model4.predict(X_test)"
      ]
    },
    {
      "cell_type": "code",
      "execution_count": 56,
      "metadata": {
        "id": "TdH60Sllhn5O"
      },
      "outputs": [],
      "source": [
        "# Calculate evaluation metrics\n",
        "rmse4 = np.sqrt(mean_squared_error(y_test, pred4))\n",
        "mae4 = mean_absolute_error(y_test, pred4)\n",
        "mape4 = mean_absolute_percentage_error(y_test, pred4)\n",
        "accuracy4 = accuracy_score(y_test > pred4, y_test > pred4.round())\n",
        "precision4 = precision_score(y_test > pred4, y_test > pred4.round())\n",
        "confusion4 = confusion_matrix(y_test > pred4, y_test > pred4.round())\n",
        "recall4 = recall_score(y_test > pred4, y_test > pred4.round())\n",
        "f14 = f1_score(y_test > pred4, y_test > pred4.round())"
      ]
    },
    {
      "cell_type": "code",
      "execution_count": null,
      "metadata": {
        "colab": {
          "base_uri": "https://localhost:8080/"
        },
        "id": "qpnLeFyZhwB3",
        "outputId": "4dcac062-ec60-4b2c-ab4b-dcda1b0f2341"
      },
      "outputs": [],
      "source": [
        "# Print the evaluation metrics\n",
        "print(\"RMSE:\", rmse4)\n",
        "print(\"MAE:\", mae4)\n",
        "print(\"MAPE:\", mape4)\n",
        "print(\"Accuracy:\", accuracy4)\n",
        "print(\"Precision:\", precision4)\n",
        "print(\"Confusion Matrix:\\n\", confusion4)\n",
        "print(\"Recall:\", recall4)\n",
        "print(\"F1 Score:\", f14)"
      ]
    },
    {
      "cell_type": "markdown",
      "metadata": {
        "id": "d8nSGoyuh9dx"
      },
      "source": [
        "## 5. Extreme Gradient Boosting (XGBoost)"
      ]
    },
    {
      "cell_type": "code",
      "execution_count": 58,
      "metadata": {
        "id": "DyhhdlZAhx94"
      },
      "outputs": [],
      "source": [
        "import xgboost as xgb\n",
        "# Create an XGBoost model\n",
        "model5 = xgb.XGBRegressor()"
      ]
    },
    {
      "cell_type": "code",
      "execution_count": 59,
      "metadata": {
        "id": "Z_AD0lVOVHwB"
      },
      "outputs": [],
      "source": [
        "# Split the data into training and testing sets\n",
        "X_train, X_test, y_train, y_test = train_test_split(X, y, test_size=0.2, random_state=42)\n",
        "# Scale the features using Min-Max scaling\n",
        "scaler = MinMaxScaler()\n",
        "X_train_scaled = scaler.fit_transform(X_train)\n",
        "X_test_scaled = scaler.transform(X_test)"
      ]
    },
    {
      "cell_type": "code",
      "execution_count": null,
      "metadata": {
        "colab": {
          "base_uri": "https://localhost:8080/",
          "height": 248
        },
        "id": "RAIwxIp5iH9Z",
        "outputId": "d2b4aa97-7e07-4015-c308-76a292b0929f"
      },
      "outputs": [],
      "source": [
        "# Train the model\n",
        "model5.fit(X_train, y_train)"
      ]
    },
    {
      "cell_type": "code",
      "execution_count": 61,
      "metadata": {
        "id": "XmJds5fYiKT3"
      },
      "outputs": [],
      "source": [
        "# Make predictions on the test set\n",
        "pred5 = model5.predict(X_test)"
      ]
    },
    {
      "cell_type": "code",
      "execution_count": 62,
      "metadata": {
        "id": "lZ1A0-L8iNCM"
      },
      "outputs": [],
      "source": [
        "# Calculate evaluation metrics\n",
        "rmse5 = np.sqrt(mean_squared_error(y_test, pred5))\n",
        "mae5 = mean_absolute_error(y_test, pred5)\n",
        "mape5 = mean_absolute_percentage_error(y_test, pred5)\n",
        "accuracy5 = accuracy_score(y_test > pred5, y_test > pred5.round())\n",
        "precision5 = precision_score(y_test > pred5, y_test > pred5.round())\n",
        "confusion5 = confusion_matrix(y_test > pred5, y_test > pred5.round())\n",
        "recall5 = recall_score(y_test > pred5, y_test > pred5.round())\n",
        "f15 = f1_score(y_test > pred5, y_test > pred5.round())"
      ]
    },
    {
      "cell_type": "code",
      "execution_count": null,
      "metadata": {
        "colab": {
          "base_uri": "https://localhost:8080/"
        },
        "id": "7IkE-RAmiWNo",
        "outputId": "cf4c1d84-412b-4a18-f70c-65ce637772ea"
      },
      "outputs": [],
      "source": [
        "# Print the evaluation metrics\n",
        "print(\"RMSE:\", rmse5)\n",
        "print(\"MAE:\", mae5)\n",
        "print(\"MAPE:\", mape5)\n",
        "print(\"Accuracy:\", accuracy5)\n",
        "print(\"Precision:\", precision5)\n",
        "print(\"Confusion Matrix:\\n\", confusion5)\n",
        "print(\"Recall:\", recall5)\n",
        "print(\"F1 Score:\", f15)"
      ]
    },
    {
      "cell_type": "markdown",
      "metadata": {
        "id": "A_J776rtiovq"
      },
      "source": [
        "## 6. AdaBoostRegressor"
      ]
    },
    {
      "cell_type": "code",
      "execution_count": 64,
      "metadata": {
        "id": "HNq66cXRiYPJ"
      },
      "outputs": [],
      "source": [
        "from sklearn.ensemble import AdaBoostRegressor\n",
        "# Create an AdaBoost model\n",
        "model6 = AdaBoostRegressor()"
      ]
    },
    {
      "cell_type": "code",
      "execution_count": 65,
      "metadata": {
        "id": "qPHH6rG0VW4V"
      },
      "outputs": [],
      "source": [
        "# Split the data into training and testing sets\n",
        "X_train, X_test, y_train, y_test = train_test_split(X, y, test_size=0.2, random_state=42)\n",
        "# Scale the features using Min-Max scaling\n",
        "scaler = MinMaxScaler()\n",
        "X_train_scaled = scaler.fit_transform(X_train)\n",
        "X_test_scaled = scaler.transform(X_test)"
      ]
    },
    {
      "cell_type": "code",
      "execution_count": null,
      "metadata": {
        "colab": {
          "base_uri": "https://localhost:8080/",
          "height": 74
        },
        "id": "P0oB5wjQivBr",
        "outputId": "8726c583-6782-4504-b0ac-d2ef4ccbca4c"
      },
      "outputs": [],
      "source": [
        "# Train the model\n",
        "model6.fit(X_train, y_train)"
      ]
    },
    {
      "cell_type": "code",
      "execution_count": 67,
      "metadata": {
        "id": "Bf1m5ukOi2VM"
      },
      "outputs": [],
      "source": [
        "# Make predictions on the test set\n",
        "pred6 = model6.predict(X_test)"
      ]
    },
    {
      "cell_type": "code",
      "execution_count": 68,
      "metadata": {
        "id": "oFWSqC4ai6gd"
      },
      "outputs": [],
      "source": [
        "# Calculate evaluation metrics\n",
        "rmse6 = np.sqrt(mean_squared_error(y_test, pred6))\n",
        "mae6 = mean_absolute_error(y_test, pred6)\n",
        "mape6 = mean_absolute_percentage_error(y_test, pred6)\n",
        "accuracy6 = accuracy_score(y_test > pred6, y_test > pred6.round())\n",
        "precision6 = precision_score(y_test > pred6, y_test > pred6.round())\n",
        "confusion6 = confusion_matrix(y_test > pred6, y_test > pred6.round())\n",
        "recall6 = recall_score(y_test > pred6, y_test > pred6.round())\n",
        "f16 = f1_score(y_test > pred6, y_test > pred6.round())"
      ]
    },
    {
      "cell_type": "code",
      "execution_count": null,
      "metadata": {
        "colab": {
          "base_uri": "https://localhost:8080/"
        },
        "id": "BsajWJGBjC80",
        "outputId": "1af1194f-9a33-40af-8578-c99832509c1b"
      },
      "outputs": [],
      "source": [
        "# Print the evaluation metrics\n",
        "print(\"RMSE:\", rmse6)\n",
        "print(\"MAE:\", mae6)\n",
        "print(\"MAPE:\", mape6)\n",
        "print(\"Accuracy:\", accuracy6)\n",
        "print(\"Precision:\", precision6)\n",
        "print(\"Confusion Matrix:\\n\", confusion6)\n",
        "print(\"Recall:\", recall6)\n",
        "print(\"F1 Score:\", f16)"
      ]
    },
    {
      "cell_type": "markdown",
      "metadata": {
        "id": "Q9DzOt3CkWFX"
      },
      "source": [
        "## 7. Decision Tree"
      ]
    },
    {
      "cell_type": "code",
      "execution_count": 70,
      "metadata": {
        "id": "23DZ2biSjF9a"
      },
      "outputs": [],
      "source": [
        "from sklearn.tree import DecisionTreeRegressor\n",
        "# Create a Decision Tree model\n",
        "model7 = DecisionTreeRegressor()"
      ]
    },
    {
      "cell_type": "code",
      "execution_count": 71,
      "metadata": {
        "id": "Ajo2RAVAVb7H"
      },
      "outputs": [],
      "source": [
        "# Split the data into training and testing sets\n",
        "X_train, X_test, y_train, y_test = train_test_split(X, y, test_size=0.2, random_state=42)\n",
        "# Scale the features using Min-Max scaling\n",
        "scaler = MinMaxScaler()\n",
        "X_train_scaled = scaler.fit_transform(X_train)\n",
        "X_test_scaled = scaler.transform(X_test)"
      ]
    },
    {
      "cell_type": "code",
      "execution_count": null,
      "metadata": {
        "colab": {
          "base_uri": "https://localhost:8080/",
          "height": 74
        },
        "id": "6mQEQf-ykc9F",
        "outputId": "f1a62020-4125-4aea-e7e4-11acffdc5169"
      },
      "outputs": [],
      "source": [
        "# Train the model\n",
        "model7.fit(X_train, y_train)"
      ]
    },
    {
      "cell_type": "code",
      "execution_count": 73,
      "metadata": {
        "id": "BFJ9q_tvkgRC"
      },
      "outputs": [],
      "source": [
        "# Make predictions on the test set\n",
        "pred7 = model7.predict(X_test)"
      ]
    },
    {
      "cell_type": "code",
      "execution_count": 74,
      "metadata": {
        "id": "9IxfYZbYkjv1"
      },
      "outputs": [],
      "source": [
        "# Calculate evaluation metrics\n",
        "rmse7 = np.sqrt(mean_squared_error(y_test, pred7))\n",
        "mae7 = mean_absolute_error(y_test, pred7)\n",
        "mape7 = mean_absolute_percentage_error(y_test, pred7)\n",
        "accuracy7 = accuracy_score(y_test > pred7, y_test > pred7.round())\n",
        "precision7 = precision_score(y_test > pred7, y_test > pred7.round())\n",
        "confusion7 = confusion_matrix(y_test > pred7, y_test > pred7.round())\n",
        "recall7 = recall_score(y_test > pred7, y_test > pred7.round())\n",
        "f17 = f1_score(y_test > pred7, y_test > pred7.round())\n"
      ]
    },
    {
      "cell_type": "code",
      "execution_count": null,
      "metadata": {
        "colab": {
          "base_uri": "https://localhost:8080/"
        },
        "id": "AnZXMYb8kooV",
        "outputId": "273fa9ed-d6f2-4c4d-fb0e-a643f5ef5732"
      },
      "outputs": [],
      "source": [
        "# Print the evaluation metrics\n",
        "print(\"RMSE:\", rmse7)\n",
        "print(\"MAE:\", mae7)\n",
        "print(\"MAPE:\", mape7)\n",
        "print(\"Accuracy:\", accuracy7)\n",
        "print(\"Precision:\", precision7)\n",
        "print(\"Confusion Matrix:\\n\", confusion7)\n",
        "print(\"Recall:\", recall7)\n",
        "print(\"F1 Score:\", f17)"
      ]
    },
    {
      "cell_type": "markdown",
      "metadata": {
        "id": "LH-B-Xd6k5UD"
      },
      "source": [
        "## 8. KNeighborsRegressor(KNN)"
      ]
    },
    {
      "cell_type": "code",
      "execution_count": 76,
      "metadata": {
        "id": "JVDSed7yktFY"
      },
      "outputs": [],
      "source": [
        "from sklearn.neighbors import KNeighborsRegressor\n",
        "# Create a KNN model\n",
        "model8 = KNeighborsRegressor()"
      ]
    },
    {
      "cell_type": "code",
      "execution_count": 77,
      "metadata": {
        "id": "XJHb5SxrVgVp"
      },
      "outputs": [],
      "source": [
        "# Split the data into training and testing sets\n",
        "X_train, X_test, y_train, y_test = train_test_split(X, y, test_size=0.2, random_state=42)\n",
        "# Scale the features using Min-Max scaling\n",
        "scaler = MinMaxScaler()\n",
        "X_train_scaled = scaler.fit_transform(X_train)\n",
        "X_test_scaled = scaler.transform(X_test)"
      ]
    },
    {
      "cell_type": "code",
      "execution_count": null,
      "metadata": {
        "colab": {
          "base_uri": "https://localhost:8080/",
          "height": 74
        },
        "id": "9fn64o-ZlBka",
        "outputId": "dc5e6af2-de37-46ee-cde7-e0a3baa31a1f"
      },
      "outputs": [],
      "source": [
        "# Train the model\n",
        "model8.fit(X_train, y_train)"
      ]
    },
    {
      "cell_type": "code",
      "execution_count": 79,
      "metadata": {
        "id": "hbfbbjcSlDn7"
      },
      "outputs": [],
      "source": [
        "# Make predictions on the test set\n",
        "pred8 = model8.predict(X_test)"
      ]
    },
    {
      "cell_type": "code",
      "execution_count": 80,
      "metadata": {
        "id": "hnWyNv3blHdL"
      },
      "outputs": [],
      "source": [
        "# Calculate evaluation metrics\n",
        "rmse8 = np.sqrt(mean_squared_error(y_test, pred8))\n",
        "mae8 = mean_absolute_error(y_test, pred8)\n",
        "mape8 = mean_absolute_percentage_error(y_test, pred8)\n",
        "accuracy8 = accuracy_score(y_test > pred8, y_test > pred8.round())\n",
        "precision8 = precision_score(y_test > pred8, y_test > pred8.round())\n",
        "confusion8 = confusion_matrix(y_test > pred8, y_test > pred8.round())\n",
        "recall8 = recall_score(y_test > pred8, y_test > pred8.round())\n",
        "f18 = f1_score(y_test > pred8, y_test > pred8.round())"
      ]
    },
    {
      "cell_type": "code",
      "execution_count": null,
      "metadata": {
        "colab": {
          "base_uri": "https://localhost:8080/"
        },
        "id": "IPoDRkcMlMAr",
        "outputId": "9892f42f-e65f-46c0-eeed-77ce32f6a7eb"
      },
      "outputs": [],
      "source": [
        "# Print the evaluation metrics\n",
        "print(\"RMSE:\", rmse8)\n",
        "print(\"MAE:\", mae8)\n",
        "print(\"MAPE:\", mape8)\n",
        "print(\"Accuracy:\", accuracy8)\n",
        "print(\"Precision:\", precision8)\n",
        "print(\"Confusion Matrix:\\n\", confusion8)\n",
        "print(\"Recall:\", recall8)\n",
        "print(\"F1 Score:\", f18)"
      ]
    },
    {
      "cell_type": "markdown",
      "metadata": {
        "id": "X5XtlzMXljps"
      },
      "source": [
        "## 9. Artificial Neural Networks (ANN)"
      ]
    },
    {
      "cell_type": "code",
      "execution_count": 82,
      "metadata": {
        "id": "bJk1-9VhlRL6"
      },
      "outputs": [],
      "source": [
        "from sklearn.preprocessing import MinMaxScaler\n",
        "from tensorflow.keras.models import Sequential\n",
        "from tensorflow.keras.layers import Dense"
      ]
    },
    {
      "cell_type": "code",
      "execution_count": 83,
      "metadata": {
        "id": "sZVPMR9Wlo7-"
      },
      "outputs": [],
      "source": [
        "# Split the data into training and testing sets\n",
        "X_train, X_test, y_train, y_test = train_test_split(X, y, test_size=0.2, random_state=42)\n",
        "# Scale the features using Min-Max scaling\n",
        "scaler = MinMaxScaler()\n",
        "X_train_scaled = scaler.fit_transform(X_train)\n",
        "X_test_scaled = scaler.transform(X_test)"
      ]
    },
    {
      "cell_type": "code",
      "execution_count": 84,
      "metadata": {
        "id": "vd1fDjQiltP4"
      },
      "outputs": [],
      "source": [
        "# Create an ANN model\n",
        "model9 = Sequential()\n",
        "model9.add(Dense(32, activation='relu', input_shape=(X_train.shape[1],)))\n",
        "model9.add(Dense(16, activation='relu'))\n",
        "model9.add(Dense(1, activation='linear'))"
      ]
    },
    {
      "cell_type": "code",
      "execution_count": 85,
      "metadata": {
        "id": "ZIf94WLMlv04"
      },
      "outputs": [],
      "source": [
        "# Compile the model\n",
        "model9.compile(loss='mean_squared_error', optimizer='adam')"
      ]
    },
    {
      "cell_type": "code",
      "execution_count": null,
      "metadata": {
        "colab": {
          "base_uri": "https://localhost:8080/"
        },
        "id": "FX5DTKqslxWf",
        "outputId": "9253b26c-1a79-4390-975e-d14c28a5e2a8"
      },
      "outputs": [],
      "source": [
        "# Train the model\n",
        "model9.fit(X_train_scaled, y_train, epochs=100, batch_size=32, verbose=0)"
      ]
    },
    {
      "cell_type": "code",
      "execution_count": null,
      "metadata": {
        "colab": {
          "base_uri": "https://localhost:8080/"
        },
        "id": "OVW2qpNsmGVq",
        "outputId": "34343782-f560-4dee-c307-ff0d0c52ab5a"
      },
      "outputs": [],
      "source": [
        "# Make predictions on the test set\n",
        "pred9 = model9.predict(X_test_scaled).flatten()"
      ]
    },
    {
      "cell_type": "code",
      "execution_count": 88,
      "metadata": {
        "id": "CqRmjMj2maJY"
      },
      "outputs": [],
      "source": [
        "# Calculate evaluation metrics\n",
        "rmse9 = np.sqrt(mean_squared_error(y_test, pred9))\n",
        "mae9 = mean_absolute_error(y_test, pred9)\n",
        "mape9 = mean_absolute_percentage_error(y_test, pred9)\n",
        "accuracy9 = accuracy_score(y_test > pred9, y_test > pred9.round())\n",
        "precision9 = precision_score(y_test > pred9, y_test > pred9.round())\n",
        "confusion9 = confusion_matrix(y_test > pred9, y_test > pred9.round())\n",
        "recall9 = recall_score(y_test > pred9, y_test > pred9.round())\n",
        "f19 = f1_score(y_test > pred9, y_test > pred9.round())\n"
      ]
    },
    {
      "cell_type": "code",
      "execution_count": null,
      "metadata": {
        "colab": {
          "base_uri": "https://localhost:8080/"
        },
        "id": "5zuwkC1emmh3",
        "outputId": "5d6a0e05-3112-4d27-f5fb-ed665867b22d"
      },
      "outputs": [],
      "source": [
        "# Print the evaluation metrics\n",
        "print(\"RMSE:\", rmse9)\n",
        "print(\"MAE:\", mae9)\n",
        "print(\"MAPE:\", mape9)\n",
        "print(\"Accuracy:\", accuracy9)\n",
        "print(\"Precision:\", precision9)\n",
        "print(\"Confusion Matrix:\\n\", confusion9)\n",
        "print(\"Recall:\", recall9)\n",
        "print(\"F1 Score:\", f19)"
      ]
    },
    {
      "cell_type": "markdown",
      "metadata": {
        "id": "vjSMQNcOnFPJ"
      },
      "source": [
        "## 10. LSTM(Long Short term Memory)"
      ]
    },
    {
      "cell_type": "code",
      "execution_count": 90,
      "metadata": {
        "id": "nCoyUanhnDKw"
      },
      "outputs": [],
      "source": [
        "from sklearn.preprocessing import MinMaxScaler\n",
        "from tensorflow.keras.models import Sequential\n",
        "from tensorflow.keras.layers import LSTM, Dense"
      ]
    },
    {
      "cell_type": "code",
      "execution_count": 91,
      "metadata": {
        "id": "ThcXESVEVv0U"
      },
      "outputs": [],
      "source": [
        "# Split the data into training and testing sets\n",
        "X_train, X_test, y_train, y_test = train_test_split(X, y, test_size=0.2, random_state=42)\n",
        "# Scale the features using Min-Max scaling\n",
        "scaler = MinMaxScaler()\n",
        "X_train_scaled = scaler.fit_transform(X_train)\n",
        "X_test_scaled = scaler.transform(X_test)"
      ]
    },
    {
      "cell_type": "code",
      "execution_count": 92,
      "metadata": {
        "id": "uACvajfImrbB"
      },
      "outputs": [],
      "source": [
        "# Reshape the input data for LSTM\n",
        "n_features = X_train_scaled.shape[1]\n",
        "n_steps = 10\n",
        "n_samples_train = X_train_scaled.shape[0] - n_steps + 1\n",
        "n_samples_test = X_test_scaled.shape[0] - n_steps + 1\n",
        "\n",
        "# Reshape the input data\n",
        "X_train_reshaped = np.array([X_train_scaled[i:i+n_steps, :] for i in range(n_samples_train)])\n",
        "X_test_reshaped = np.array([X_test_scaled[i:i+n_steps, :] for i in range(n_samples_test)])\n"
      ]
    },
    {
      "cell_type": "code",
      "execution_count": 93,
      "metadata": {
        "id": "r066pVYpnXH5"
      },
      "outputs": [],
      "source": [
        "# Create an LSTM model\n",
        "model = Sequential()\n",
        "model.add(LSTM(64, activation='relu', input_shape=(n_steps, n_features)))\n",
        "model.add(Dense(1))\n"
      ]
    },
    {
      "cell_type": "code",
      "execution_count": 94,
      "metadata": {
        "id": "YpSfHu6gov35"
      },
      "outputs": [],
      "source": [
        "# Compile the model\n",
        "model.compile(loss='mean_squared_error', optimizer='adam')\n"
      ]
    },
    {
      "cell_type": "code",
      "execution_count": null,
      "metadata": {
        "colab": {
          "base_uri": "https://localhost:8080/"
        },
        "id": "0vHjcluaoxzP",
        "outputId": "1eaafd31-9f91-4655-f437-e9199c0f7933"
      },
      "outputs": [],
      "source": [
        "# Train the model\n",
        "model.fit(X_train_reshaped, y_train[n_steps-1:], epochs=100, batch_size=32, verbose=0)"
      ]
    },
    {
      "cell_type": "code",
      "execution_count": null,
      "metadata": {
        "colab": {
          "base_uri": "https://localhost:8080/"
        },
        "id": "gEE06_TjozYv",
        "outputId": "30306af7-2ec8-4733-db96-d3416a7fc6d4"
      },
      "outputs": [],
      "source": [
        "# Make predictions on the test set\n",
        "y_pred = model.predict(X_test_reshaped).flatten()"
      ]
    },
    {
      "cell_type": "code",
      "execution_count": 113,
      "metadata": {
        "id": "7k6C8DrxpB_Q"
      },
      "outputs": [],
      "source": [
        "# Calculate evaluation metrics\n",
        "rmse10 = np.sqrt(mean_squared_error(y_test[n_steps-1:], y_pred))\n",
        "mae10 = mean_absolute_error(y_test[n_steps-1:], y_pred)\n",
        "mape10 = mean_absolute_percentage_error(y_test[n_steps-1:], y_pred)\n",
        "accuracy10 = accuracy_score(y_test[n_steps-1:] > y_pred, y_test[n_steps-1:] > y_pred.round())\n",
        "precision10 = precision_score(y_test[n_steps-1:] > y_pred, y_test[n_steps-1:] > y_pred.round())\n",
        "recall10 = recall_score(y_test[n_steps-1:] > y_pred, y_test[n_steps-1:] > y_pred.round())\n",
        "f110 = f1_score(y_test[n_steps-1:] > y_pred, y_test[n_steps-1:] > y_pred.round())\n",
        "confusion10 = confusion_matrix(y_test[n_steps-1:] > y_pred, y_test[n_steps-1:] > y_pred.round())\n"
      ]
    },
    {
      "cell_type": "code",
      "execution_count": null,
      "metadata": {
        "colab": {
          "base_uri": "https://localhost:8080/"
        },
        "id": "i_6-UUDhpi0c",
        "outputId": "3dcc5761-03b6-4b52-dfe6-08dece835c8d"
      },
      "outputs": [],
      "source": [
        "# Print evaluation metrics\n",
        "print(\"RMSE:\", rmse10)\n",
        "print(\"MAE:\", mae10)\n",
        "print(\"MAPE:\", mape10)\n",
        "print(\"Accuracy:\", accuracy10)\n",
        "print(\"Precision:\", precision10)\n",
        "print(\"Recall:\", recall10)\n",
        "print(\"F1 Score:\", f110)\n",
        "print(\"Confusion Matrix:\\n\", confusion10)"
      ]
    },
    {
      "cell_type": "code",
      "execution_count": null,
      "metadata": {
        "colab": {
          "base_uri": "https://localhost:8080/",
          "height": 472
        },
        "id": "qpWPtph9CGip",
        "outputId": "c099cb8d-96af-4223-f499-743040aecdf1"
      },
      "outputs": [],
      "source": [
        "import matplotlib.pyplot as plt\n",
        "\n",
        "# Assuming you have a list of accuracies from accuracy1 to accuracy10\n",
        "accuracies = [accuracy1*100, accuracy2*100, accuracy3*100, accuracy4*100, accuracy5*100, accuracy6*100, accuracy7*100, accuracy8*100, accuracy9*100, accuracy10*100]\n",
        "\n",
        "# List of corresponding labels for each accuracy\n",
        "labels = ['1', '2', '3', '4', '5', '6', '7', '8', '9', '10']\n",
        "\n",
        "# Plotting the bar graph\n",
        "plt.bar(labels, accuracies, color='blue')\n",
        "plt.xlabel('Accuracy Variables')\n",
        "plt.ylabel('Accuracy Values')\n",
        "plt.title('Bar Graph of Accuracies')\n",
        "plt.show()\n"
      ]
    },
    {
      "cell_type": "code",
      "execution_count": null,
      "metadata": {
        "colab": {
          "base_uri": "https://localhost:8080/",
          "height": 472
        },
        "id": "RFaaCNH6Cfoa",
        "outputId": "67a8f358-e3ce-4ad2-9c78-ebc75902beb4"
      },
      "outputs": [],
      "source": [
        "import matplotlib.pyplot as plt\n",
        "\n",
        "# Assuming you have a list of RMSE values from rmse1 to rmse10\n",
        "rmse_values = [rmse1, rmse2, rmse3, rmse4, rmse5, rmse6, rmse7, rmse8, rmse9, rmse10]\n",
        "\n",
        "# List of corresponding labels for each RMSE value\n",
        "labels = ['RMSE1', 'RMSE2', 'RMSE3', 'RMSE4', 'RMSE5', 'RMSE6', 'RMSE7', 'RMSE8', 'RMSE9', 'RMSE10']\n",
        "\n",
        "# Plotting the bar graph\n",
        "plt.bar(labels, rmse_values, color='green')\n",
        "plt.xlabel('RMSE Variables')\n",
        "plt.ylabel('RMSE Values')\n",
        "plt.title('Bar Graph of RMSE')\n",
        "plt.show()\n"
      ]
    },
    {
      "cell_type": "code",
      "execution_count": null,
      "metadata": {
        "colab": {
          "base_uri": "https://localhost:8080/",
          "height": 472
        },
        "id": "nrZu-K-KDCJ2",
        "outputId": "69165581-da05-4554-a464-a606eb87a734"
      },
      "outputs": [],
      "source": [
        "import matplotlib.pyplot as plt\n",
        "\n",
        "# Assuming you have a list of MAE values from mae1 to mae10\n",
        "mae_values = [mae1, mae2, mae3, mae4, mae5, mae6, mae7, mae8, mae9, mae10]\n",
        "\n",
        "# List of corresponding labels for each MAE value\n",
        "labels = ['MAE1', 'MAE2', 'MAE3', 'MAE4', 'MAE5', 'MAE6', 'MAE7', 'MAE8', 'MAE9', 'MAE10']\n",
        "\n",
        "# Plotting the bar graph\n",
        "plt.bar(labels, mae_values, color='orange')\n",
        "plt.xlabel('MAE Variables')\n",
        "plt.ylabel('MAE Values')\n",
        "plt.title('Bar Graph of MAE')\n",
        "plt.show()\n"
      ]
    },
    {
      "cell_type": "code",
      "execution_count": null,
      "metadata": {
        "colab": {
          "base_uri": "https://localhost:8080/",
          "height": 472
        },
        "id": "_c4Pe76fDNM-",
        "outputId": "0e3d2f74-9042-4e2d-92c6-5ce61e967bd4"
      },
      "outputs": [],
      "source": [
        "import matplotlib.pyplot as plt\n",
        "\n",
        "# Assuming you have a list of MAPE values from mape1 to mape10\n",
        "mape_values = [mape1, mape2, mape3, mape4, mape5, mape6, mape7, mape8, mape9, mape10]\n",
        "\n",
        "# List of corresponding labels for each MAPE value\n",
        "labels = ['MAPE1', 'MAPE2', 'MAPE3', 'MAPE4', 'MAPE5', 'MAPE6', 'MAPE7', 'MAPE8', 'MAPE9', 'MAPE10']\n",
        "\n",
        "# Plotting the bar graph\n",
        "plt.bar(labels, mape_values, color='purple')\n",
        "plt.xlabel('MAPE Variables')\n",
        "plt.ylabel('MAPE Values')\n",
        "plt.title('Bar Graph of MAPE')\n",
        "plt.show()\n"
      ]
    },
    {
      "cell_type": "code",
      "execution_count": null,
      "metadata": {
        "colab": {
          "base_uri": "https://localhost:8080/",
          "height": 472
        },
        "id": "ZDPV0M5rDTi6",
        "outputId": "9db63164-3f42-47be-d302-d80d381d9b91"
      },
      "outputs": [],
      "source": [
        "import matplotlib.pyplot as plt\n",
        "\n",
        "# Assuming you have a list of precision values from precision1 to precision10\n",
        "precision_values = [precision1, precision2, precision3, precision4, precision5, precision6, precision7, precision8, precision9, precision10]\n",
        "\n",
        "# List of corresponding labels for each precision value\n",
        "labels = ['Precision1', 'Precision2', 'Precision3', 'Precision4', 'Precision5', 'Precision6', 'Precision7', 'Precision8', 'Precision9', 'Precision10']\n",
        "\n",
        "# Plotting the bar graph\n",
        "plt.bar(labels, precision_values, color='red')\n",
        "plt.xlabel('Precision Variables')\n",
        "plt.ylabel('Precision Values')\n",
        "plt.title('Bar Graph of Precision')\n",
        "plt.show()\n"
      ]
    },
    {
      "cell_type": "code",
      "execution_count": null,
      "metadata": {
        "colab": {
          "base_uri": "https://localhost:8080/",
          "height": 472
        },
        "id": "39LBleNeDeuw",
        "outputId": "3c6c40bc-f1da-44fb-da14-25ec6d6cf278"
      },
      "outputs": [],
      "source": [
        "import matplotlib.pyplot as plt\n",
        "\n",
        "# Assuming you have a list of recall values from recall1 to recall10\n",
        "recall_values = [recall1, recall2, recall3, recall4, recall5, recall6, recall7, recall8, recall9, recall10]\n",
        "\n",
        "# List of corresponding labels for each recall value\n",
        "labels = ['Recall1', 'Recall2', 'Recall3', 'Recall4', 'Recall5', 'Recall6', 'Recall7', 'Recall8', 'Recall9', 'Recall10']\n",
        "\n",
        "# Plotting the bar graph\n",
        "plt.bar(labels, recall_values, color='cyan')\n",
        "plt.xlabel('Recall Variables')\n",
        "plt.ylabel('Recall Values')\n",
        "plt.title('Bar Graph of Recall')\n",
        "plt.show()\n"
      ]
    },
    {
      "cell_type": "code",
      "execution_count": null,
      "metadata": {
        "id": "13cZXvb0DsvK"
      },
      "outputs": [],
      "source": []
    }
  ],
  "metadata": {
    "colab": {
      "provenance": []
    },
    "kernelspec": {
      "display_name": "Python 3 (ipykernel)",
      "language": "python",
      "name": "python3"
    },
    "language_info": {
      "codemirror_mode": {
        "name": "ipython",
        "version": 3
      },
      "file_extension": ".py",
      "mimetype": "text/x-python",
      "name": "python",
      "nbconvert_exporter": "python",
      "pygments_lexer": "ipython3",
      "version": "3.12.1"
    }
  },
  "nbformat": 4,
  "nbformat_minor": 0
}
