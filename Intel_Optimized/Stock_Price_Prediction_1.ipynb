{
 "cells": [
  {
   "cell_type": "code",
   "execution_count": 1,
   "metadata": {
    "id": "qCDSjVhXLr_Z"
   },
   "outputs": [
    {
     "ename": "ModuleNotFoundError",
     "evalue": "No module named 'sklearnex'",
     "output_type": "error",
     "traceback": [
      "\u001b[1;31m---------------------------------------------------------------------------\u001b[0m",
      "\u001b[1;31mModuleNotFoundError\u001b[0m                       Traceback (most recent call last)",
      "Cell \u001b[1;32mIn[1], line 4\u001b[0m\n\u001b[0;32m      2\u001b[0m \u001b[38;5;28;01mimport\u001b[39;00m \u001b[38;5;21;01mnumpy\u001b[39;00m \u001b[38;5;28;01mas\u001b[39;00m \u001b[38;5;21;01mnp\u001b[39;00m\n\u001b[0;32m      3\u001b[0m \u001b[38;5;28;01mimport\u001b[39;00m \u001b[38;5;21;01mmatplotlib\u001b[39;00m\u001b[38;5;21;01m.\u001b[39;00m\u001b[38;5;21;01mpyplot\u001b[39;00m \u001b[38;5;28;01mas\u001b[39;00m \u001b[38;5;21;01mplt\u001b[39;00m\n\u001b[1;32m----> 4\u001b[0m \u001b[38;5;28;01mfrom\u001b[39;00m \u001b[38;5;21;01msklearnex\u001b[39;00m \u001b[38;5;28;01mimport\u001b[39;00m patch_sklearn\n\u001b[0;32m      5\u001b[0m patch_sklearn()\n\u001b[0;32m      6\u001b[0m \u001b[38;5;28;01mfrom\u001b[39;00m \u001b[38;5;21;01msklearn\u001b[39;00m\u001b[38;5;21;01m.\u001b[39;00m\u001b[38;5;21;01mmodel_selection\u001b[39;00m \u001b[38;5;28;01mimport\u001b[39;00m train_test_split\n",
      "\u001b[1;31mModuleNotFoundError\u001b[0m: No module named 'sklearnex'"
     ]
    }
   ],
   "source": [
    "import modin.pandas as pd\n",
    "import numpy as np\n",
    "import matplotlib.pyplot as plt\n",
    "from sklearnex import patch_sklearn\n",
    "patch_sklearn()\n",
    "from sklearn.model_selection import train_test_split\n",
    "from sklearn.impute import SimpleImputer\n",
    "from sklearn.preprocessing import MinMaxScaler\n",
    "from sklearn.linear_model import LinearRegression\n",
    "from sklearn.svm import SVR\n",
    "from sklearn.ensemble import RandomForestRegressor, AdaBoostRegressor, GradientBoostingRegressor\n",
    "from sklearn.tree import DecisionTreeRegressor\n",
    "from sklearn.metrics import mean_squared_error, mean_absolute_error, mean_absolute_percentage_error\n",
    "from sklearn.neighbors import KNeighborsRegressor\n",
    "from tensorflow.keras.models import Sequential\n",
    "from tensorflow.keras.layers import Dense,LSTM"
   ]
  },
  {
   "cell_type": "code",
   "execution_count": null,
   "metadata": {},
   "outputs": [],
   "source": [
    "try:\n",
    "    import google.colab\n",
    "    In_colab=True\n",
    "except:\n",
    "    In_colab=False\n",
    "\n",
    "if(In_colab):\n",
    "    print(\"Running in google colab\")\n",
    "    from google.colab import drive\n",
    "    drive.mount('/content/drive')\n",
    "    df = pd.read_csv('drive/My Drive/Colab Notebooks/Stock Price Prediction RNN/SBIN.csv')\n",
    "else:\n",
    "    print(\"Running in local system\")\n",
    "    path=r'C:\\Users\\SHRISTI\\OneDrive\\Desktop\\GitHub\\Stock-Price-Prediction\\Data\\SBIN.csv'\n",
    "    df=pd.read_csv(path)\n"
   ]
  },
  {
   "cell_type": "code",
   "execution_count": null,
   "metadata": {
    "colab": {
     "base_uri": "https://localhost:8080/",
     "height": 206
    },
    "id": "Sc4id6VxL8BS",
    "outputId": "568d039c-faf4-4636-bfc1-70b9ef83367b"
   },
   "outputs": [],
   "source": [
    "# Load the dataset\n",
    "#df = pd.read_csv('/content/SBIN.NS.csv')\n",
    "df.head()"
   ]
  },
  {
   "cell_type": "code",
   "execution_count": 8,
   "metadata": {
    "id": "7LaYGXsfN-8y"
   },
   "outputs": [],
   "source": [
    "# Drop the 'Date' and 'Adj Close' columns\n",
    "df.drop(['Date', 'Adj Close'], axis=1, inplace=True)"
   ]
  },
  {
   "cell_type": "code",
   "execution_count": null,
   "metadata": {
    "colab": {
     "base_uri": "https://localhost:8080/",
     "height": 206
    },
    "id": "pqbTBdnBOKJc",
    "outputId": "21da8a7f-4f3e-4f4f-e32b-3b90c230ce55"
   },
   "outputs": [],
   "source": [
    "df.head()"
   ]
  },
  {
   "cell_type": "code",
   "execution_count": 12,
   "metadata": {
    "id": "dydEPoNeM6eN"
   },
   "outputs": [],
   "source": [
    "# Handle missing values\n",
    "imputer = SimpleImputer(strategy='mean')\n",
    "df = pd.DataFrame(imputer.fit_transform(df), columns=df.columns)"
   ]
  },
  {
   "cell_type": "code",
   "execution_count": 14,
   "metadata": {
    "id": "OQ3cGqgTMBwt"
   },
   "outputs": [],
   "source": [
    "# Select features and target variable\n",
    "X = df[['Open', 'High', 'Low', 'Volume']]\n",
    "y = df['Close']"
   ]
  },
  {
   "cell_type": "code",
   "execution_count": 16,
   "metadata": {
    "id": "9Oz-bwJOMEWD"
   },
   "outputs": [],
   "source": [
    "# Split the data into training and testing sets\n",
    "X_train, X_test, y_train, y_test = train_test_split(X, y, test_size=0.2, random_state=42)"
   ]
  },
  {
   "cell_type": "code",
   "execution_count": 18,
   "metadata": {
    "id": "ugapDyXODtn3"
   },
   "outputs": [],
   "source": [
    "# Scale the features using Min-Max scaling\n",
    "scaler = MinMaxScaler()\n",
    "X_train_scaled = scaler.fit_transform(X_train)\n",
    "X_test_scaled = scaler.transform(X_test)"
   ]
  },
  {
   "cell_type": "code",
   "execution_count": null,
   "metadata": {
    "colab": {
     "base_uri": "https://localhost:8080/"
    },
    "id": "997ZEgibCZIO",
    "outputId": "2a45a8e3-71b0-47f3-bd66-91bcdc028c76"
   },
   "outputs": [],
   "source": [
    "X_train.shape"
   ]
  },
  {
   "cell_type": "code",
   "execution_count": null,
   "metadata": {
    "colab": {
     "base_uri": "https://localhost:8080/"
    },
    "id": "bmtt76RuCeyG",
    "outputId": "658075af-e75d-45b1-f6cf-756e349a32d1"
   },
   "outputs": [],
   "source": [
    "X_test.shape"
   ]
  },
  {
   "cell_type": "code",
   "execution_count": null,
   "metadata": {
    "colab": {
     "base_uri": "https://localhost:8080/"
    },
    "id": "CeJkUJ92Ciqd",
    "outputId": "93dec527-ea2e-42e6-c70b-a9491c71d917"
   },
   "outputs": [],
   "source": [
    "y_train.shape"
   ]
  },
  {
   "cell_type": "code",
   "execution_count": null,
   "metadata": {
    "colab": {
     "base_uri": "https://localhost:8080/"
    },
    "id": "7HGC7VuTCjWc",
    "outputId": "64dc2569-b4b4-4c2e-d416-1cf77c41ac75"
   },
   "outputs": [],
   "source": [
    "y_test.shape"
   ]
  },
  {
   "cell_type": "code",
   "execution_count": 28,
   "metadata": {},
   "outputs": [],
   "source": [
    "# Function to evaluate and print RMSE, MAE, and MAPE\n",
    "def evaluate_model(model, X_test, y_test):\n",
    "    predictions = model.predict(X_test)\n",
    "    rmse = np.sqrt(mean_squared_error(y_test, predictions))\n",
    "    mae = mean_absolute_error(y_test, predictions)\n",
    "    mape = mean_absolute_percentage_error(y_test, predictions)\n",
    "\n",
    "    print(f\"RMSE: {rmse}\")\n",
    "    print(f\"MAE: {mae}\")\n",
    "    print(f\"MAPE: {mape}\\n\")\n",
    "    \n",
    "    return rmse, mae, mape\n"
   ]
  },
  {
   "cell_type": "code",
   "execution_count": 30,
   "metadata": {},
   "outputs": [],
   "source": [
    "metrics = {\n",
    "    \"Model\": [],\n",
    "    \"RMSE\": [],\n",
    "    \"MAE\": [],\n",
    "    \"MAPE\": []\n",
    "}"
   ]
  },
  {
   "cell_type": "markdown",
   "metadata": {
    "id": "c6Ek8jRlO2_I"
   },
   "source": [
    "## 1. LINEAR REGRESSION"
   ]
  },
  {
   "cell_type": "code",
   "execution_count": 33,
   "metadata": {
    "id": "RdZ1SpzdMHAJ"
   },
   "outputs": [],
   "source": [
    "# Create a linear regression model\n",
    "model1 = LinearRegression()"
   ]
  },
  {
   "cell_type": "code",
   "execution_count": null,
   "metadata": {
    "colab": {
     "base_uri": "https://localhost:8080/"
    },
    "id": "mPM035IzMY04",
    "outputId": "07379dba-cfe8-4814-b972-d08b12f224ac"
   },
   "outputs": [],
   "source": [
    "y_train.head()"
   ]
  },
  {
   "cell_type": "code",
   "execution_count": null,
   "metadata": {
    "colab": {
     "base_uri": "https://localhost:8080/",
     "height": 74
    },
    "id": "qBhQ9HbYMI3d",
    "outputId": "52e0655f-1d23-47b7-decc-7a7ca35c0470"
   },
   "outputs": [],
   "source": [
    "# Train the model\n",
    "model1.fit(X_train_scaled, y_train)"
   ]
  },
  {
   "cell_type": "code",
   "execution_count": null,
   "metadata": {
    "id": "X269co2kMS4z"
   },
   "outputs": [],
   "source": [
    "rmse, mae, mape = evaluate_model(model1, X_test_scaled, y_test)\n",
    "metrics[\"Model\"].append(\"Linear Regressor\")\n",
    "metrics[\"RMSE\"].append(rmse)\n",
    "metrics[\"MAE\"].append(mae)\n",
    "metrics[\"MAPE\"].append(mape)"
   ]
  },
  {
   "cell_type": "markdown",
   "metadata": {
    "id": "GxtMzlg-gR2P"
   },
   "source": [
    "## 2. SVR"
   ]
  },
  {
   "cell_type": "code",
   "execution_count": 42,
   "metadata": {
    "id": "0xQewd7QWTtq"
   },
   "outputs": [],
   "source": [
    "# Create an SVR model\n",
    "model2 = SVR()"
   ]
  },
  {
   "cell_type": "code",
   "execution_count": null,
   "metadata": {
    "colab": {
     "base_uri": "https://localhost:8080/",
     "height": 74
    },
    "id": "22SaCsQmfhgP",
    "outputId": "2121e992-399d-4b78-e42c-fc20b9d52189"
   },
   "outputs": [],
   "source": [
    "# Train the model\n",
    "model2.fit(X_train_scaled, y_train)"
   ]
  },
  {
   "cell_type": "code",
   "execution_count": null,
   "metadata": {
    "id": "OQ1nL4oYfkAC"
   },
   "outputs": [],
   "source": [
    "rmse, mae, mape = evaluate_model(model2, X_test_scaled, y_test)\n",
    "metrics[\"Model\"].append(\"SVR\")\n",
    "metrics[\"RMSE\"].append(rmse)\n",
    "metrics[\"MAE\"].append(mae)\n",
    "metrics[\"MAPE\"].append(mape)"
   ]
  },
  {
   "cell_type": "markdown",
   "metadata": {
    "id": "hcIfVMWdgcKt"
   },
   "source": [
    "## 3. Random Forest"
   ]
  },
  {
   "cell_type": "code",
   "execution_count": 49,
   "metadata": {
    "id": "f7raXT_hf2ij"
   },
   "outputs": [],
   "source": [
    "model3 = RandomForestRegressor()"
   ]
  },
  {
   "cell_type": "code",
   "execution_count": null,
   "metadata": {
    "colab": {
     "base_uri": "https://localhost:8080/",
     "height": 74
    },
    "id": "fF002Yepgk55",
    "outputId": "d148c589-4879-4e2d-8b0f-5b5ca01a2a53"
   },
   "outputs": [],
   "source": [
    "# Train the model\n",
    "model3.fit(X_train_scaled, y_train)"
   ]
  },
  {
   "cell_type": "code",
   "execution_count": null,
   "metadata": {
    "id": "8nRU_pzEgnCt"
   },
   "outputs": [],
   "source": [
    "rmse, mae, mape = evaluate_model(model3, X_test_scaled, y_test)\n",
    "metrics[\"Model\"].append(\"Random Forest\")\n",
    "metrics[\"RMSE\"].append(rmse)\n",
    "metrics[\"MAE\"].append(mae)\n",
    "metrics[\"MAPE\"].append(mape)"
   ]
  },
  {
   "cell_type": "markdown",
   "metadata": {
    "id": "mZsLwLivhLGH"
   },
   "source": [
    "## 4. Gradient Boosting Models (GBM)"
   ]
  },
  {
   "cell_type": "code",
   "execution_count": 56,
   "metadata": {
    "id": "TI8idoxOg6jF"
   },
   "outputs": [],
   "source": [
    "model4 = GradientBoostingRegressor()"
   ]
  },
  {
   "cell_type": "code",
   "execution_count": null,
   "metadata": {
    "colab": {
     "base_uri": "https://localhost:8080/",
     "height": 248
    },
    "id": "2gpbDxshhexj",
    "outputId": "b2b1a681-7ede-4d66-be5d-1a8606d0f470"
   },
   "outputs": [],
   "source": [
    "# Train the model\n",
    "model4.fit(X_train_scaled, y_train)"
   ]
  },
  {
   "cell_type": "code",
   "execution_count": null,
   "metadata": {
    "id": "Jj9DXdUPhh9V"
   },
   "outputs": [],
   "source": [
    "rmse, mae, mape = evaluate_model(model4, X_test_scaled, y_test)\n",
    "metrics[\"Model\"].append(\"GBM\")\n",
    "metrics[\"RMSE\"].append(rmse)\n",
    "metrics[\"MAE\"].append(mae)\n",
    "metrics[\"MAPE\"].append(mape)"
   ]
  },
  {
   "cell_type": "markdown",
   "metadata": {
    "id": "d8nSGoyuh9dx"
   },
   "source": [
    "## 5. Extreme Gradient Boosting (XGBoost)"
   ]
  },
  {
   "cell_type": "code",
   "execution_count": 63,
   "metadata": {
    "id": "DyhhdlZAhx94"
   },
   "outputs": [],
   "source": [
    "import xgboost as xgb\n",
    "# Create an XGBoost model\n",
    "model5 = xgb.XGBRegressor()"
   ]
  },
  {
   "cell_type": "code",
   "execution_count": null,
   "metadata": {
    "colab": {
     "base_uri": "https://localhost:8080/",
     "height": 248
    },
    "id": "RAIwxIp5iH9Z",
    "outputId": "d2b4aa97-7e07-4015-c308-76a292b0929f"
   },
   "outputs": [],
   "source": [
    "# Train the model\n",
    "model5.fit(X_train_scaled, y_train)"
   ]
  },
  {
   "cell_type": "code",
   "execution_count": null,
   "metadata": {},
   "outputs": [],
   "source": [
    "rmse, mae, mape = evaluate_model(model5, X_test_scaled, y_test)\n",
    "metrics[\"Model\"].append(\"XGBoost\")\n",
    "metrics[\"RMSE\"].append(rmse)\n",
    "metrics[\"MAE\"].append(mae)\n",
    "metrics[\"MAPE\"].append(mape)"
   ]
  },
  {
   "cell_type": "markdown",
   "metadata": {
    "id": "A_J776rtiovq"
   },
   "source": [
    "## 6. AdaBoostRegressor"
   ]
  },
  {
   "cell_type": "code",
   "execution_count": 70,
   "metadata": {
    "id": "HNq66cXRiYPJ"
   },
   "outputs": [],
   "source": [
    "model6 = AdaBoostRegressor()"
   ]
  },
  {
   "cell_type": "code",
   "execution_count": null,
   "metadata": {
    "colab": {
     "base_uri": "https://localhost:8080/",
     "height": 74
    },
    "id": "P0oB5wjQivBr",
    "outputId": "8726c583-6782-4504-b0ac-d2ef4ccbca4c"
   },
   "outputs": [],
   "source": [
    "# Train the model\n",
    "model6.fit(X_train_scaled, y_train)"
   ]
  },
  {
   "cell_type": "code",
   "execution_count": null,
   "metadata": {
    "id": "Bf1m5ukOi2VM"
   },
   "outputs": [],
   "source": [
    "rmse, mae, mape = evaluate_model(model6, X_test_scaled, y_test)\n",
    "metrics[\"Model\"].append(\"AdaBoost Regressor\")\n",
    "metrics[\"RMSE\"].append(rmse)\n",
    "metrics[\"MAE\"].append(mae)\n",
    "metrics[\"MAPE\"].append(mape)"
   ]
  },
  {
   "cell_type": "markdown",
   "metadata": {
    "id": "Q9DzOt3CkWFX"
   },
   "source": [
    "## 7. Decision Tree"
   ]
  },
  {
   "cell_type": "code",
   "execution_count": 77,
   "metadata": {
    "id": "23DZ2biSjF9a"
   },
   "outputs": [],
   "source": [
    "model7 = DecisionTreeRegressor()"
   ]
  },
  {
   "cell_type": "code",
   "execution_count": null,
   "metadata": {
    "colab": {
     "base_uri": "https://localhost:8080/",
     "height": 74
    },
    "id": "6mQEQf-ykc9F",
    "outputId": "f1a62020-4125-4aea-e7e4-11acffdc5169"
   },
   "outputs": [],
   "source": [
    "# Train the model\n",
    "model7.fit(X_train_scaled, y_train)"
   ]
  },
  {
   "cell_type": "code",
   "execution_count": null,
   "metadata": {
    "id": "BFJ9q_tvkgRC"
   },
   "outputs": [],
   "source": [
    "rmse, mae, mape = evaluate_model(model7, X_test_scaled, y_test)\n",
    "metrics[\"Model\"].append(\"Decision Tree\")\n",
    "metrics[\"RMSE\"].append(rmse)\n",
    "metrics[\"MAE\"].append(mae)\n",
    "metrics[\"MAPE\"].append(mape)"
   ]
  },
  {
   "cell_type": "markdown",
   "metadata": {
    "id": "LH-B-Xd6k5UD"
   },
   "source": [
    "## 8. KNeighborsRegressor(KNN)"
   ]
  },
  {
   "cell_type": "code",
   "execution_count": 84,
   "metadata": {
    "id": "JVDSed7yktFY"
   },
   "outputs": [],
   "source": [
    "# Create a KNN model\n",
    "model8 = KNeighborsRegressor()"
   ]
  },
  {
   "cell_type": "code",
   "execution_count": null,
   "metadata": {
    "colab": {
     "base_uri": "https://localhost:8080/",
     "height": 74
    },
    "id": "9fn64o-ZlBka",
    "outputId": "dc5e6af2-de37-46ee-cde7-e0a3baa31a1f"
   },
   "outputs": [],
   "source": [
    "# Train the model\n",
    "model8.fit(X_train_scaled, y_train)"
   ]
  },
  {
   "cell_type": "code",
   "execution_count": null,
   "metadata": {
    "id": "hbfbbjcSlDn7"
   },
   "outputs": [],
   "source": [
    "rmse, mae, mape = evaluate_model(model8, X_test_scaled, y_test)\n",
    "metrics[\"Model\"].append(\"KNN\")\n",
    "metrics[\"RMSE\"].append(rmse)\n",
    "metrics[\"MAE\"].append(mae)\n",
    "metrics[\"MAPE\"].append(mape)"
   ]
  },
  {
   "cell_type": "markdown",
   "metadata": {
    "id": "X5XtlzMXljps"
   },
   "source": [
    "## 9. Artificial Neural Networks (ANN)"
   ]
  },
  {
   "cell_type": "code",
   "execution_count": 124,
   "metadata": {},
   "outputs": [],
   "source": [
    "# Create an ANN model\n",
    "model9 = Sequential()\n",
    "from keras.layers import Input\n",
    "model9.add(Input(shape=(X_train.shape[1],)))\n",
    "model9.add(Dense(32, activation='relu'))\n",
    "model9.add(Dense(16, activation='relu'))\n",
    "model9.add(Dense(1, activation='linear'))"
   ]
  },
  {
   "cell_type": "code",
   "execution_count": 126,
   "metadata": {
    "id": "ZIf94WLMlv04"
   },
   "outputs": [],
   "source": [
    "# Compile the model\n",
    "model9.compile(loss='mean_squared_error', optimizer='adam')"
   ]
  },
  {
   "cell_type": "code",
   "execution_count": null,
   "metadata": {
    "colab": {
     "base_uri": "https://localhost:8080/"
    },
    "id": "FX5DTKqslxWf",
    "outputId": "9253b26c-1a79-4390-975e-d14c28a5e2a8"
   },
   "outputs": [],
   "source": [
    "# Train the model\n",
    "model9.fit(X_train_scaled, y_train, epochs=100, batch_size=32, verbose=0)"
   ]
  },
  {
   "cell_type": "code",
   "execution_count": null,
   "metadata": {
    "colab": {
     "base_uri": "https://localhost:8080/"
    },
    "id": "OVW2qpNsmGVq",
    "outputId": "34343782-f560-4dee-c307-ff0d0c52ab5a"
   },
   "outputs": [],
   "source": [
    "rmse, mae, mape = evaluate_model(model9, X_test_scaled, y_test)\n",
    "metrics[\"Model\"].append(\"ANN\")\n",
    "metrics[\"RMSE\"].append(rmse)\n",
    "metrics[\"MAE\"].append(mae)\n",
    "metrics[\"MAPE\"].append(mape)"
   ]
  },
  {
   "cell_type": "markdown",
   "metadata": {
    "id": "vjSMQNcOnFPJ"
   },
   "source": [
    "## 10. LSTM(Long Short term Memory)"
   ]
  },
  {
   "cell_type": "code",
   "execution_count": 149,
   "metadata": {
    "id": "uACvajfImrbB"
   },
   "outputs": [],
   "source": [
    "# Reshape the input data for LSTM\n",
    "n_features = X_train_scaled.shape[1]\n",
    "n_steps = 10\n",
    "n_samples_train = X_train_scaled.shape[0] - n_steps + 1\n",
    "n_samples_test = X_test_scaled.shape[0] - n_steps + 1\n",
    "\n",
    "# Reshape the input data\n",
    "X_train_reshaped = np.array([X_train_scaled[i:i+n_steps, :] for i in range(n_samples_train)])\n",
    "X_test_reshaped = np.array([X_test_scaled[i:i+n_steps, :] for i in range(n_samples_test)])\n"
   ]
  },
  {
   "cell_type": "code",
   "execution_count": 137,
   "metadata": {},
   "outputs": [],
   "source": [
    "# Create an LSTM model\n",
    "model = Sequential()\n",
    "model.add(Input(shape=(n_steps, n_features)))\n",
    "model.add(LSTM(64, activation='relu'))\n",
    "model.add(Dense(1))\n"
   ]
  },
  {
   "cell_type": "code",
   "execution_count": 139,
   "metadata": {
    "id": "YpSfHu6gov35"
   },
   "outputs": [],
   "source": [
    "# Compile the model\n",
    "model.compile(loss='mean_squared_error', optimizer='adam')\n"
   ]
  },
  {
   "cell_type": "code",
   "execution_count": null,
   "metadata": {
    "colab": {
     "base_uri": "https://localhost:8080/"
    },
    "id": "0vHjcluaoxzP",
    "outputId": "1eaafd31-9f91-4655-f437-e9199c0f7933"
   },
   "outputs": [],
   "source": [
    "# Train the model\n",
    "model.fit(X_train_reshaped, y_train[n_steps-1:], epochs=100, batch_size=32, verbose=0)"
   ]
  },
  {
   "cell_type": "code",
   "execution_count": null,
   "metadata": {},
   "outputs": [],
   "source": [
    "rmse, mae, mape = evaluate_model(model10, X_test_reshaped, y_test)\n",
    "metrics[\"Model\"].append(\"LSTM\")\n",
    "metrics[\"RMSE\"].append(rmse)\n",
    "metrics[\"MAE\"].append(mae)\n",
    "metrics[\"MAPE\"].append(mape)"
   ]
  },
  {
   "cell_type": "code",
   "execution_count": null,
   "metadata": {},
   "outputs": [],
   "source": [
    "# Create a DataFrame for metrics\n",
    "metrics_df = pd.DataFrame(metrics)\n",
    "\n",
    "# Plot RMSE, MAE, and MAPE for each model\n",
    "plt.figure(figsize=(15, 5))\n",
    "\n",
    "# RMSE Plot\n",
    "plt.subplot(1, 3, 1)\n",
    "plt.bar(metrics_df['Model'], metrics_df['RMSE'], color='lightblue')\n",
    "plt.xlabel('RMSE')\n",
    "plt.title('RMSE for Different Models')\n",
    "plt.tight_layout()\n",
    "plt.show()"
   ]
  },
  {
   "cell_type": "code",
   "execution_count": null,
   "metadata": {},
   "outputs": [],
   "source": [
    "# MAE Plot\n",
    "plt.subplot(1, 3, 2)\n",
    "plt.bar(metrics_df['Model'], metrics_df['MAE'], color='lightgreen')\n",
    "plt.xlabel('MAE')\n",
    "plt.title('MAE for Different Models')\n",
    "plt.tight_layout()\n",
    "plt.show()"
   ]
  },
  {
   "cell_type": "code",
   "execution_count": null,
   "metadata": {},
   "outputs": [],
   "source": [
    "# MAPE Plot\n",
    "plt.subplot(1, 3, 3)\n",
    "plt.bar(metrics_df['Model'], metrics_df['MAPE'], color='salmon')\n",
    "plt.xlabel('MAPE')\n",
    "plt.title('MAPE for Different Models')\n",
    "plt.tight_layout()\n",
    "plt.show()"
   ]
  },
  {
   "cell_type": "markdown",
   "metadata": {},
   "source": [
    "# Using of LightGBM and CatBoost For Optimizing the model accuracy and time complexity"
   ]
  },
  {
   "cell_type": "code",
   "execution_count": null,
   "metadata": {},
   "outputs": [],
   "source": [
    "# Import necessary libraries\n",
    "import lightgbm as lgb\n",
    "from catboost import CatBoostRegressor\n",
    "from sklearn.metrics import mean_squared_error, mean_absolute_error, mean_absolute_percentage_error, accuracy_score, precision_score, confusion_matrix, recall_score, f1_score\n",
    "\n",
    "# Function to train and evaluate a model\n",
    "def train_and_evaluate_model(model, X_train, X_test, y_train, y_test):\n",
    "    model.fit(X_train, y_train)\n",
    "    pred = model.predict(X_test)\n",
    "    rmse = np.sqrt(mean_squared_error(y_test, pred))\n",
    "    mae = mean_absolute_error(y_test, pred)\n",
    "    mape = mean_absolute_percentage_error(y_test, pred)\n",
    "    accuracy = accuracy_score(y_test > pred, y_test > pred.round())\n",
    "    precision = precision_score(y_test > pred, y_test > pred.round())\n",
    "    confusion = confusion_matrix(y_test > pred, y_test > pred.round())\n",
    "    recall = recall_score(y_test > pred, y_test > pred.round())\n",
    "    f1 = f1_score(y_test > pred, y_test > pred.round())\n",
    "    return rmse, mae, mape, accuracy, precision, confusion, recall, f1\n",
    "\n",
    "# Train and evaluate LightGBM model for from this directly print accuracy \n",
    "model_lightgbm = lgb.LGBMRegressor()\n",
    "metrics_lightgbm = train_and_evaluate_model(model_lightgbm, X_train, X_test, y_train, y_test)\n",
    "print(\"LightGBM Metrics:\", metrics_lightgbm)\n",
    "\n",
    "# Train and evaluate CatBoost model\n",
    "model_catboost = CatBoostRegressor(verbose=0)\n",
    "metrics_catboost = train_and_evaluate_model(model_catboost, X_train, X_test, y_train, y_test)\n",
    "print(\"CatBoost Metrics:\", metrics_catboost)"
   ]
  }
 ],
 "metadata": {
  "colab": {
   "provenance": []
  },
  "kernelspec": {
   "display_name": "Python 3",
   "language": "python",
   "name": "python3"
  },
  "language_info": {
   "codemirror_mode": {
    "name": "ipython",
    "version": 3
   },
   "file_extension": ".py",
   "mimetype": "text/x-python",
   "name": "python",
   "nbconvert_exporter": "python",
   "pygments_lexer": "ipython3",
   "version": "3.12.6"
  }
 },
 "nbformat": 4,
 "nbformat_minor": 4
}
